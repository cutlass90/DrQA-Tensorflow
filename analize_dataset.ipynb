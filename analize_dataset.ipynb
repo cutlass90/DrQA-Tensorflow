{
 "cells": [
  {
   "cell_type": "code",
   "execution_count": 1,
   "metadata": {},
   "outputs": [
    {
     "name": "stderr",
     "output_type": "stream",
     "text": [
      "/media/nazar/DATA/env_dslib_everyday/lib/python3.5/site-packages/matplotlib/__init__.py:1405: UserWarning: \n",
      "This call to matplotlib.use() has no effect because the backend has already\n",
      "been chosen; matplotlib.use() must be called *before* pylab, matplotlib.pyplot,\n",
      "or matplotlib.backends is imported for the first time.\n",
      "\n",
      "  warnings.warn(_use_error_msg)\n"
     ]
    }
   ],
   "source": [
    "%matplotlib inline\n",
    "import matplotlib.pyplot as plt\n",
    "import os\n",
    "import json\n",
    "import pandas as pd\n",
    "import numpy as np\n",
    "import csv\n",
    "import msgpack\n",
    "\n",
    "import tools_refact\n",
    "from tools_refact import Paragraph, QA, Answer, load_pickled_object\n",
    "from config import config as c"
   ]
  },
  {
   "cell_type": "code",
   "execution_count": 51,
   "metadata": {},
   "outputs": [],
   "source": [
    "path_to_data = '/media/nazar/DATA/datasets/SQuAD/dev-v1.1.json'"
   ]
  },
  {
   "cell_type": "code",
   "execution_count": 52,
   "metadata": {},
   "outputs": [],
   "source": [
    "data = json.load(open(path_to_data, 'r'))"
   ]
  },
  {
   "cell_type": "code",
   "execution_count": 53,
   "metadata": {},
   "outputs": [
    {
     "data": {
      "text/plain": [
       "dict_keys(['data', 'version'])"
      ]
     },
     "execution_count": 53,
     "metadata": {},
     "output_type": "execute_result"
    }
   ],
   "source": [
    "data.keys()"
   ]
  },
  {
   "cell_type": "code",
   "execution_count": 54,
   "metadata": {},
   "outputs": [
    {
     "name": "stdout",
     "output_type": "stream",
     "text": [
      "data len 48\n",
      "dict_keys(['paragraphs', 'title'])\n"
     ]
    }
   ],
   "source": [
    "print('data len', len(data['data']))\n",
    "print(data['data'][0].keys())"
   ]
  },
  {
   "cell_type": "code",
   "execution_count": 55,
   "metadata": {},
   "outputs": [
    {
     "data": {
      "text/plain": [
       "'Super_Bowl_50'"
      ]
     },
     "execution_count": 55,
     "metadata": {},
     "output_type": "execute_result"
    }
   ],
   "source": [
    "data['data'][0]['title']"
   ]
  },
  {
   "cell_type": "code",
   "execution_count": 39,
   "metadata": {},
   "outputs": [
    {
     "name": "stdout",
     "output_type": "stream",
     "text": [
      "dict_keys(['context', 'qas'])\n",
      "context:\n",
      " Architecturally, the school has a Catholic character. Atop the Main Building's gold dome is a golden statue of the Virgin Mary. Immediately in front of the Main Building and facing it, is a copper statue of Christ with arms upraised with the legend \"Venite Ad Me Omnes\". Next to the Main Building is the Basilica of the Sacred Heart. Immediately behind the basilica is the Grotto, a Marian place of prayer and reflection. It is a replica of the grotto at Lourdes, France where the Virgin Mary reputedly appeared to Saint Bernadette Soubirous in 1858. At the end of the main drive (and in a direct line that connects through 3 statues and the Gold Dome), is a simple, modern stone statue of Mary.\n",
      "qas:\n",
      " {'answers': [{'text': 'the Main Building', 'answer_start': 279}], 'id': '5733be284776f41900661180', 'question': 'The Basilica of the Sacred heart at Notre Dame is beside to which structure?'}\n"
     ]
    }
   ],
   "source": [
    "print(data['data'][0]['paragraphs'][0].keys())\n",
    "print('context:\\n', data['data'][0]['paragraphs'][0]['context'])\n",
    "print('qas:\\n', data['data'][0]['paragraphs'][0]['qas'][2])"
   ]
  },
  {
   "cell_type": "code",
   "execution_count": 40,
   "metadata": {},
   "outputs": [
    {
     "data": {
      "text/plain": [
       "dict_keys(['answers', 'id', 'question'])"
      ]
     },
     "execution_count": 40,
     "metadata": {},
     "output_type": "execute_result"
    }
   ],
   "source": [
    "data['data'][0]['paragraphs'][0]['qas'][0].keys()"
   ]
  },
  {
   "cell_type": "markdown",
   "metadata": {},
   "source": [
    "## JSON STRUCTURE"
   ]
  },
  {
   "cell_type": "code",
   "execution_count": 9,
   "metadata": {},
   "outputs": [
    {
     "data": {
      "text/plain": [
       "\"\\ndict:\\n    'data':list of dict\\n        'title': 'Super_Bowl_50'\\n        'paragraphs':list of dict\\n            'context': text\\n            'qas':list of dict\\n                'question':'Which NFL team represented the AFC at Super Bowl 50?'\\n                'id':'56be4db0acb8001400a502ec'\\n                'answers':list of dict   len=3\\n                    'answer_start':177\\n                    'text':'Denver Broncos'\\n    'version'\\n\""
      ]
     },
     "execution_count": 9,
     "metadata": {},
     "output_type": "execute_result"
    }
   ],
   "source": [
    "\"\"\"\n",
    "dict:\n",
    "    'data':list of dict\n",
    "        'title': 'Super_Bowl_50'\n",
    "        'paragraphs':list of dict\n",
    "            'context': text\n",
    "            'qas':list of dict\n",
    "                'question':'Which NFL team represented the AFC at Super Bowl 50?'\n",
    "                'id':'56be4db0acb8001400a502ec'\n",
    "                'answers':list of dict   len=3\n",
    "                    'answer_start':177\n",
    "                    'text':'Denver Broncos'\n",
    "    'version'\n",
    "\"\"\""
   ]
  },
  {
   "cell_type": "code",
   "execution_count": 56,
   "metadata": {},
   "outputs": [
    {
     "name": "stdout",
     "output_type": "stream",
     "text": [
      "Found 2067 contexts\n"
     ]
    }
   ],
   "source": [
    "print('Found {} contexts'.format(sum([1 for d in data['data'] for p in d['paragraphs']])))"
   ]
  },
  {
   "cell_type": "code",
   "execution_count": 57,
   "metadata": {},
   "outputs": [
    {
     "name": "stdout",
     "output_type": "stream",
     "text": [
      "Found 10570 questions\n"
     ]
    }
   ],
   "source": [
    "print('Found {} questions'.format(sum([1 for d in data['data'] for p in d['paragraphs'] for qa in p['qas']])))"
   ]
  },
  {
   "cell_type": "code",
   "execution_count": 58,
   "metadata": {
    "scrolled": true
   },
   "outputs": [
    {
     "name": "stdout",
     "output_type": "stream",
     "text": [
      "Found 34726 answers\n"
     ]
    }
   ],
   "source": [
    "print('Found {} answers'.format(sum([1 for d in data['data'] for p in d['paragraphs'] for qa in p['qas'] for a_ in qa['answers']])))"
   ]
  },
  {
   "cell_type": "markdown",
   "metadata": {},
   "source": [
    "## Test processed SQuAD"
   ]
  },
  {
   "cell_type": "code",
   "execution_count": 4,
   "metadata": {},
   "outputs": [],
   "source": [
    "with open('SQuAD/meta.msgpack', 'rb') as f:\n",
    "    meta = msgpack.load(f, encoding='utf8')"
   ]
  },
  {
   "cell_type": "code",
   "execution_count": 5,
   "metadata": {},
   "outputs": [],
   "source": [
    "vocab = meta['vocab']"
   ]
  },
  {
   "cell_type": "code",
   "execution_count": 10,
   "metadata": {},
   "outputs": [
    {
     "data": {
      "text/plain": [
       "91187"
      ]
     },
     "execution_count": 10,
     "metadata": {},
     "output_type": "execute_result"
    }
   ],
   "source": [
    "len(vocab)"
   ]
  },
  {
   "cell_type": "code",
   "execution_count": 18,
   "metadata": {},
   "outputs": [
    {
     "name": "stdout",
     "output_type": "stream",
     "text": [
      "['NN', 'IN', 'NNP', 'DT', 'JJ', 'NNS', ',', '.', 'CC', 'VBD', 'RB', 'VBN', 'CD', 'VB', 'VBZ', 'VBG', 'PRP', 'VBP', 'TO', '-RRB-', 'HYPH', '-LRB-', 'PRP$', 'POS', 'WDT', \"''\", '``', 'MD', 'NNPS', ':', 'JJR', 'JJS', 'WRB', 'WP', 'RP', 'RBR', 'RBS', 'EX', '$', 'SYM', 'FW', 'NFP', 'AFX', 'PDT', 'WP$', 'UH', 'LS', 'SP', 'XX', 'ADD']\n"
     ]
    }
   ],
   "source": [
    "vocab_tag = meta['vocab_tag']\n",
    "print(vocab_tag)"
   ]
  },
  {
   "cell_type": "code",
   "execution_count": 20,
   "metadata": {},
   "outputs": [],
   "source": [
    "vocab_ent = meta['vocab_ent']"
   ]
  },
  {
   "cell_type": "code",
   "execution_count": 22,
   "metadata": {},
   "outputs": [
    {
     "data": {
      "text/plain": [
       "['',\n",
       " 'ORG',\n",
       " 'DATE',\n",
       " 'PERSON',\n",
       " 'GPE',\n",
       " 'CARDINAL',\n",
       " 'NORP',\n",
       " 'LOC',\n",
       " 'WORK_OF_ART',\n",
       " 'PERCENT',\n",
       " 'EVENT',\n",
       " 'ORDINAL',\n",
       " 'MONEY',\n",
       " 'FAC',\n",
       " 'QUANTITY',\n",
       " 'LAW',\n",
       " 'TIME',\n",
       " 'LANGUAGE',\n",
       " 'PRODUCT']"
      ]
     },
     "execution_count": 22,
     "metadata": {},
     "output_type": "execute_result"
    }
   ],
   "source": [
    "vocab_ent"
   ]
  },
  {
   "cell_type": "code",
   "execution_count": 23,
   "metadata": {},
   "outputs": [],
   "source": [
    "embedding = meta['embedding']"
   ]
  },
  {
   "cell_type": "code",
   "execution_count": 26,
   "metadata": {},
   "outputs": [
    {
     "data": {
      "text/plain": [
       "300"
      ]
     },
     "execution_count": 26,
     "metadata": {},
     "output_type": "execute_result"
    }
   ],
   "source": [
    "len(embedding[0])"
   ]
  },
  {
   "cell_type": "code",
   "execution_count": null,
   "metadata": {},
   "outputs": [],
   "source": []
  },
  {
   "cell_type": "code",
   "execution_count": null,
   "metadata": {},
   "outputs": [],
   "source": []
  },
  {
   "cell_type": "code",
   "execution_count": 28,
   "metadata": {},
   "outputs": [],
   "source": [
    "with open('SQuAD/data.msgpack', 'rb') as f:\n",
    "    data = msgpack.load(f, encoding='utf8')"
   ]
  },
  {
   "cell_type": "code",
   "execution_count": 29,
   "metadata": {},
   "outputs": [],
   "source": [
    "train = data['train']"
   ]
  },
  {
   "cell_type": "code",
   "execution_count": 32,
   "metadata": {},
   "outputs": [
    {
     "name": "stdout",
     "output_type": "stream",
     "text": [
      "id 5733be284776f41900661182\n"
     ]
    }
   ],
   "source": [
    "print('id', train[0][0])"
   ]
  },
  {
   "cell_type": "code",
   "execution_count": 34,
   "metadata": {},
   "outputs": [
    {
     "name": "stdout",
     "output_type": "stream",
     "text": [
      "context_id [56657, 18, 3, 137, 47, 12, 523, 991, 217, 77428, 3, 5543, 2424, 13, 1663, 10606, 9, 12, 6308, 4781, 5, 3, 3804, 711, 217, 36580, 6, 2094, 5, 3, 5543, 2424, 17, 6353, 50, 18, 9, 12, 753, 4781, 5, 2314, 28, 3053, 62876, 28, 3, 5798, 39, 78972, 15476, 8026, 66905, 39, 217, 22347, 7, 3, 5543, 2424, 9, 3, 4548, 5, 3, 10317, 4877, 217, 36580, 1573, 3, 10501, 9, 3, 22472, 18, 12, 12197, 122, 5, 5235, 17, 9189, 217, 2285, 9, 12, 12081, 5, 3, 71965, 45, 23146, 18, 197, 110, 3, 3804, 711, 44002, 1935, 7, 641, 48147, 48281, 6, 9045, 217, 216, 3, 140, 5, 3, 146, 2042, 916, 17, 6, 12, 1512, 393, 22, 2959, 244, 798, 6594, 17, 3, 4691, 12943, 828, 18, 9, 12, 2731, 18, 205, 2728, 4781, 5, 711, 217]\n"
     ]
    }
   ],
   "source": [
    "print('context_id', train[0][1])"
   ]
  },
  {
   "cell_type": "code",
   "execution_count": 35,
   "metadata": {},
   "outputs": [
    {
     "data": {
      "text/plain": [
       "['Architecturally',\n",
       " ',',\n",
       " 'the',\n",
       " 'school',\n",
       " 'has',\n",
       " 'a',\n",
       " 'Catholic',\n",
       " 'character',\n",
       " '.',\n",
       " 'Atop',\n",
       " 'the',\n",
       " 'Main',\n",
       " 'Building',\n",
       " \"'s\",\n",
       " 'gold',\n",
       " 'dome',\n",
       " 'is',\n",
       " 'a',\n",
       " 'golden',\n",
       " 'statue',\n",
       " 'of',\n",
       " 'the',\n",
       " 'Virgin',\n",
       " 'Mary',\n",
       " '.',\n",
       " 'Immediately',\n",
       " 'in',\n",
       " 'front',\n",
       " 'of',\n",
       " 'the',\n",
       " 'Main',\n",
       " 'Building',\n",
       " 'and',\n",
       " 'facing',\n",
       " 'it',\n",
       " ',',\n",
       " 'is',\n",
       " 'a',\n",
       " 'copper',\n",
       " 'statue',\n",
       " 'of',\n",
       " 'Christ',\n",
       " 'with',\n",
       " 'arms',\n",
       " 'upraised',\n",
       " 'with',\n",
       " 'the',\n",
       " 'legend',\n",
       " '\"',\n",
       " 'Venite',\n",
       " 'Ad',\n",
       " 'Me',\n",
       " 'Omnes',\n",
       " '\"',\n",
       " '.',\n",
       " 'Next',\n",
       " 'to',\n",
       " 'the',\n",
       " 'Main',\n",
       " 'Building',\n",
       " 'is',\n",
       " 'the',\n",
       " 'Basilica',\n",
       " 'of',\n",
       " 'the',\n",
       " 'Sacred',\n",
       " 'Heart',\n",
       " '.',\n",
       " 'Immediately',\n",
       " 'behind',\n",
       " 'the',\n",
       " 'basilica',\n",
       " 'is',\n",
       " 'the',\n",
       " 'Grotto',\n",
       " ',',\n",
       " 'a',\n",
       " 'Marian',\n",
       " 'place',\n",
       " 'of',\n",
       " 'prayer',\n",
       " 'and',\n",
       " 'reflection',\n",
       " '.',\n",
       " 'It',\n",
       " 'is',\n",
       " 'a',\n",
       " 'replica',\n",
       " 'of',\n",
       " 'the',\n",
       " 'grotto',\n",
       " 'at',\n",
       " 'Lourdes',\n",
       " ',',\n",
       " 'France',\n",
       " 'where',\n",
       " 'the',\n",
       " 'Virgin',\n",
       " 'Mary',\n",
       " 'reputedly',\n",
       " 'appeared',\n",
       " 'to',\n",
       " 'Saint',\n",
       " 'Bernadette',\n",
       " 'Soubirous',\n",
       " 'in',\n",
       " '1858',\n",
       " '.',\n",
       " 'At',\n",
       " 'the',\n",
       " 'end',\n",
       " 'of',\n",
       " 'the',\n",
       " 'main',\n",
       " 'drive',\n",
       " '(',\n",
       " 'and',\n",
       " 'in',\n",
       " 'a',\n",
       " 'direct',\n",
       " 'line',\n",
       " 'that',\n",
       " 'connects',\n",
       " 'through',\n",
       " '3',\n",
       " 'statues',\n",
       " 'and',\n",
       " 'the',\n",
       " 'Gold',\n",
       " 'Dome',\n",
       " ')',\n",
       " ',',\n",
       " 'is',\n",
       " 'a',\n",
       " 'simple',\n",
       " ',',\n",
       " 'modern',\n",
       " 'stone',\n",
       " 'statue',\n",
       " 'of',\n",
       " 'Mary',\n",
       " '.']"
      ]
     },
     "execution_count": 35,
     "metadata": {},
     "output_type": "execute_result"
    }
   ],
   "source": [
    "[vocab[id_] for id_ in train[0][1]]"
   ]
  },
  {
   "cell_type": "code",
   "execution_count": 36,
   "metadata": {},
   "outputs": [
    {
     "name": "stdout",
     "output_type": "stream",
     "text": [
      "context_features [[False, False, False, 0.007042253521126761], [False, False, False, 0.04225352112676056], [True, True, True, 0.1056338028169014], [False, False, False, 0.007042253521126761], [False, False, False, 0.007042253521126761], [False, False, False, 0.04929577464788732], [False, False, False, 0.007042253521126761], [False, False, False, 0.007042253521126761], [False, False, False, 0.04929577464788732], [False, False, False, 0.007042253521126761], [True, True, True, 0.1056338028169014], [False, False, False, 0.028169014084507043], [False, False, False, 0.02112676056338028], [False, False, False, 0.007042253521126761], [False, False, False, 0.014084507042253521], [False, False, False, 0.014084507042253521], [False, False, False, 0.04225352112676056], [False, False, False, 0.04929577464788732], [False, False, False, 0.007042253521126761], [False, False, False, 0.02112676056338028], [False, False, False, 0.056338028169014086], [True, True, True, 0.1056338028169014], [True, True, True, 0.014084507042253521], [True, True, True, 0.02112676056338028], [False, False, False, 0.04929577464788732], [False, False, False, 0.014084507042253521], [True, True, True, 0.02112676056338028], [False, False, False, 0.007042253521126761], [False, False, False, 0.056338028169014086], [True, True, True, 0.1056338028169014], [False, False, False, 0.028169014084507043], [False, False, False, 0.02112676056338028], [False, False, False, 0.028169014084507043], [False, False, False, 0.007042253521126761], [False, False, False, 0.014084507042253521], [False, False, False, 0.04225352112676056], [False, False, False, 0.04225352112676056], [False, False, False, 0.04929577464788732], [False, False, False, 0.007042253521126761], [False, False, False, 0.02112676056338028], [False, False, False, 0.056338028169014086], [False, False, False, 0.007042253521126761], [False, False, False, 0.014084507042253521], [False, False, False, 0.007042253521126761], [False, False, False, 0.007042253521126761], [False, False, False, 0.014084507042253521], [True, True, True, 0.1056338028169014], [False, False, False, 0.007042253521126761], [False, False, False, 0.014084507042253521], [False, False, False, 0.007042253521126761], [False, False, False, 0.007042253521126761], [False, False, False, 0.007042253521126761], [False, False, False, 0.007042253521126761], [False, False, False, 0.014084507042253521], [False, False, False, 0.04929577464788732], [False, False, False, 0.007042253521126761], [False, True, True, 0.014084507042253521], [True, True, True, 0.1056338028169014], [False, False, False, 0.028169014084507043], [False, False, False, 0.02112676056338028], [False, False, False, 0.04225352112676056], [True, True, True, 0.1056338028169014], [False, False, False, 0.014084507042253521], [False, False, False, 0.056338028169014086], [True, True, True, 0.1056338028169014], [False, False, False, 0.007042253521126761], [False, False, False, 0.007042253521126761], [False, False, False, 0.04929577464788732], [False, False, False, 0.014084507042253521], [False, False, False, 0.007042253521126761], [True, True, True, 0.1056338028169014], [False, False, False, 0.014084507042253521], [False, False, False, 0.04225352112676056], [True, True, True, 0.1056338028169014], [False, False, False, 0.014084507042253521], [False, False, False, 0.04225352112676056], [False, False, False, 0.04929577464788732], [False, False, False, 0.007042253521126761], [False, False, False, 0.007042253521126761], [False, False, False, 0.056338028169014086], [False, False, False, 0.007042253521126761], [False, False, False, 0.028169014084507043], [False, False, False, 0.007042253521126761], [False, False, False, 0.04929577464788732], [False, False, False, 0.014084507042253521], [False, False, False, 0.04225352112676056], [False, False, False, 0.04929577464788732], [False, False, False, 0.007042253521126761], [False, False, False, 0.056338028169014086], [True, True, True, 0.1056338028169014], [False, False, False, 0.014084507042253521], [False, False, False, 0.014084507042253521], [True, True, True, 0.007042253521126761], [False, False, False, 0.04225352112676056], [True, True, True, 0.007042253521126761], [False, False, False, 0.007042253521126761], [True, True, True, 0.1056338028169014], [True, True, True, 0.014084507042253521], [True, True, True, 0.02112676056338028], [False, False, False, 0.007042253521126761], [False, False, True, 0.007042253521126761], [False, True, True, 0.014084507042253521], [False, False, False, 0.007042253521126761], [False, False, False, 0.007042253521126761], [False, False, False, 0.007042253521126761], [True, True, True, 0.02112676056338028], [True, True, True, 0.007042253521126761], [False, False, False, 0.04929577464788732], [False, False, False, 0.014084507042253521], [True, True, True, 0.1056338028169014], [False, False, False, 0.007042253521126761], [False, False, False, 0.056338028169014086], [True, True, True, 0.1056338028169014], [False, False, False, 0.028169014084507043], [False, False, False, 0.007042253521126761], [False, False, False, 0.007042253521126761], [False, False, False, 0.028169014084507043], [True, True, True, 0.02112676056338028], [False, False, False, 0.04929577464788732], [False, False, False, 0.007042253521126761], [False, False, False, 0.007042253521126761], [False, False, False, 0.007042253521126761], [False, False, False, 0.007042253521126761], [False, False, False, 0.007042253521126761], [False, False, False, 0.007042253521126761], [False, False, False, 0.007042253521126761], [False, False, False, 0.028169014084507043], [True, True, True, 0.1056338028169014], [False, False, False, 0.014084507042253521], [False, False, False, 0.014084507042253521], [False, False, False, 0.007042253521126761], [False, False, False, 0.04225352112676056], [False, False, False, 0.04225352112676056], [False, False, False, 0.04929577464788732], [False, False, False, 0.007042253521126761], [False, False, False, 0.04225352112676056], [False, False, False, 0.007042253521126761], [False, False, False, 0.007042253521126761], [False, False, False, 0.02112676056338028], [False, False, False, 0.056338028169014086], [True, True, True, 0.02112676056338028], [False, False, False, 0.04929577464788732]]\n"
     ]
    }
   ],
   "source": [
    "print('context_features', train[0][2])"
   ]
  },
  {
   "cell_type": "code",
   "execution_count": 37,
   "metadata": {},
   "outputs": [
    {
     "name": "stdout",
     "output_type": "stream",
     "text": [
      "tag_id [10, 6, 3, 0, 14, 3, 4, 0, 7, 1, 3, 2, 2, 23, 0, 0, 14, 3, 4, 0, 1, 3, 2, 2, 7, 10, 1, 0, 1, 3, 2, 2, 8, 15, 16, 6, 14, 3, 0, 0, 1, 2, 1, 5, 4, 1, 3, 0, 26, 2, 2, 16, 2, 25, 7, 10, 1, 3, 2, 2, 14, 3, 2, 1, 3, 2, 2, 7, 10, 1, 3, 0, 14, 3, 2, 6, 3, 2, 0, 1, 0, 8, 0, 7, 16, 14, 3, 0, 1, 3, 0, 1, 2, 6, 2, 32, 3, 2, 2, 10, 9, 1, 2, 2, 2, 1, 12, 7, 1, 3, 0, 1, 3, 4, 0, 21, 8, 1, 3, 4, 0, 24, 14, 1, 12, 5, 8, 3, 2, 2, 19, 6, 14, 3, 4, 6, 4, 0, 0, 1, 2, 7]\n"
     ]
    }
   ],
   "source": [
    "print('tag_id', train[0][3])"
   ]
  },
  {
   "cell_type": "code",
   "execution_count": 53,
   "metadata": {},
   "outputs": [
    {
     "data": {
      "text/plain": [
       "50"
      ]
     },
     "execution_count": 53,
     "metadata": {},
     "output_type": "execute_result"
    }
   ],
   "source": [
    "len(vocab_tag)"
   ]
  },
  {
   "cell_type": "code",
   "execution_count": 51,
   "metadata": {},
   "outputs": [
    {
     "data": {
      "text/plain": [
       "['RB',\n",
       " ',',\n",
       " 'DT',\n",
       " 'NN',\n",
       " 'VBZ',\n",
       " 'DT',\n",
       " 'JJ',\n",
       " 'NN',\n",
       " '.',\n",
       " 'IN',\n",
       " 'DT',\n",
       " 'NNP',\n",
       " 'NNP',\n",
       " 'POS',\n",
       " 'NN',\n",
       " 'NN',\n",
       " 'VBZ',\n",
       " 'DT',\n",
       " 'JJ',\n",
       " 'NN',\n",
       " 'IN',\n",
       " 'DT',\n",
       " 'NNP',\n",
       " 'NNP',\n",
       " '.',\n",
       " 'RB',\n",
       " 'IN',\n",
       " 'NN',\n",
       " 'IN',\n",
       " 'DT',\n",
       " 'NNP',\n",
       " 'NNP',\n",
       " 'CC',\n",
       " 'VBG',\n",
       " 'PRP',\n",
       " ',',\n",
       " 'VBZ',\n",
       " 'DT',\n",
       " 'NN',\n",
       " 'NN',\n",
       " 'IN',\n",
       " 'NNP',\n",
       " 'IN',\n",
       " 'NNS',\n",
       " 'JJ',\n",
       " 'IN',\n",
       " 'DT',\n",
       " 'NN',\n",
       " '``',\n",
       " 'NNP',\n",
       " 'NNP',\n",
       " 'PRP',\n",
       " 'NNP',\n",
       " \"''\",\n",
       " '.',\n",
       " 'RB',\n",
       " 'IN',\n",
       " 'DT',\n",
       " 'NNP',\n",
       " 'NNP',\n",
       " 'VBZ',\n",
       " 'DT',\n",
       " 'NNP',\n",
       " 'IN',\n",
       " 'DT',\n",
       " 'NNP',\n",
       " 'NNP',\n",
       " '.',\n",
       " 'RB',\n",
       " 'IN',\n",
       " 'DT',\n",
       " 'NN',\n",
       " 'VBZ',\n",
       " 'DT',\n",
       " 'NNP',\n",
       " ',',\n",
       " 'DT',\n",
       " 'NNP',\n",
       " 'NN',\n",
       " 'IN',\n",
       " 'NN',\n",
       " 'CC',\n",
       " 'NN',\n",
       " '.',\n",
       " 'PRP',\n",
       " 'VBZ',\n",
       " 'DT',\n",
       " 'NN',\n",
       " 'IN',\n",
       " 'DT',\n",
       " 'NN',\n",
       " 'IN',\n",
       " 'NNP',\n",
       " ',',\n",
       " 'NNP',\n",
       " 'WRB',\n",
       " 'DT',\n",
       " 'NNP',\n",
       " 'NNP',\n",
       " 'RB',\n",
       " 'VBD',\n",
       " 'IN',\n",
       " 'NNP',\n",
       " 'NNP',\n",
       " 'NNP',\n",
       " 'IN',\n",
       " 'CD',\n",
       " '.',\n",
       " 'IN',\n",
       " 'DT',\n",
       " 'NN',\n",
       " 'IN',\n",
       " 'DT',\n",
       " 'JJ',\n",
       " 'NN',\n",
       " '-LRB-',\n",
       " 'CC',\n",
       " 'IN',\n",
       " 'DT',\n",
       " 'JJ',\n",
       " 'NN',\n",
       " 'WDT',\n",
       " 'VBZ',\n",
       " 'IN',\n",
       " 'CD',\n",
       " 'NNS',\n",
       " 'CC',\n",
       " 'DT',\n",
       " 'NNP',\n",
       " 'NNP',\n",
       " '-RRB-',\n",
       " ',',\n",
       " 'VBZ',\n",
       " 'DT',\n",
       " 'JJ',\n",
       " ',',\n",
       " 'JJ',\n",
       " 'NN',\n",
       " 'NN',\n",
       " 'IN',\n",
       " 'NNP',\n",
       " '.']"
      ]
     },
     "execution_count": 51,
     "metadata": {},
     "output_type": "execute_result"
    }
   ],
   "source": [
    "[vocab_tag[id_] for id_ in train[0][3]]"
   ]
  },
  {
   "cell_type": "code",
   "execution_count": 40,
   "metadata": {},
   "outputs": [
    {
     "name": "stdout",
     "output_type": "stream",
     "text": [
      "ent_id [0, 0, 0, 0, 0, 0, 6, 0, 0, 0, 13, 13, 13, 13, 0, 0, 0, 0, 0, 0, 0, 0, 0, 0, 0, 0, 0, 0, 0, 13, 13, 13, 0, 0, 0, 0, 0, 0, 0, 0, 0, 6, 0, 0, 0, 0, 0, 0, 0, 8, 8, 8, 8, 0, 0, 0, 0, 13, 13, 13, 0, 0, 3, 0, 1, 1, 1, 0, 0, 0, 0, 0, 0, 0, 4, 0, 0, 3, 0, 0, 0, 0, 0, 0, 0, 0, 0, 0, 0, 0, 0, 0, 4, 0, 4, 0, 0, 0, 3, 0, 0, 0, 3, 3, 3, 0, 2, 0, 0, 2, 2, 2, 2, 2, 2, 0, 0, 0, 0, 0, 0, 0, 0, 0, 5, 0, 0, 0, 0, 3, 0, 0, 0, 0, 0, 0, 0, 0, 0, 0, 3, 0]\n"
     ]
    }
   ],
   "source": [
    "print('ent_id', train[0][4])"
   ]
  },
  {
   "cell_type": "code",
   "execution_count": 54,
   "metadata": {},
   "outputs": [
    {
     "data": {
      "text/plain": [
       "19"
      ]
     },
     "execution_count": 54,
     "metadata": {},
     "output_type": "execute_result"
    }
   ],
   "source": [
    "len(vocab_ent)"
   ]
  },
  {
   "cell_type": "code",
   "execution_count": 52,
   "metadata": {},
   "outputs": [
    {
     "data": {
      "text/plain": [
       "['',\n",
       " '',\n",
       " '',\n",
       " '',\n",
       " '',\n",
       " '',\n",
       " 'NORP',\n",
       " '',\n",
       " '',\n",
       " '',\n",
       " 'FAC',\n",
       " 'FAC',\n",
       " 'FAC',\n",
       " 'FAC',\n",
       " '',\n",
       " '',\n",
       " '',\n",
       " '',\n",
       " '',\n",
       " '',\n",
       " '',\n",
       " '',\n",
       " '',\n",
       " '',\n",
       " '',\n",
       " '',\n",
       " '',\n",
       " '',\n",
       " '',\n",
       " 'FAC',\n",
       " 'FAC',\n",
       " 'FAC',\n",
       " '',\n",
       " '',\n",
       " '',\n",
       " '',\n",
       " '',\n",
       " '',\n",
       " '',\n",
       " '',\n",
       " '',\n",
       " 'NORP',\n",
       " '',\n",
       " '',\n",
       " '',\n",
       " '',\n",
       " '',\n",
       " '',\n",
       " '',\n",
       " 'WORK_OF_ART',\n",
       " 'WORK_OF_ART',\n",
       " 'WORK_OF_ART',\n",
       " 'WORK_OF_ART',\n",
       " '',\n",
       " '',\n",
       " '',\n",
       " '',\n",
       " 'FAC',\n",
       " 'FAC',\n",
       " 'FAC',\n",
       " '',\n",
       " '',\n",
       " 'PERSON',\n",
       " '',\n",
       " 'ORG',\n",
       " 'ORG',\n",
       " 'ORG',\n",
       " '',\n",
       " '',\n",
       " '',\n",
       " '',\n",
       " '',\n",
       " '',\n",
       " '',\n",
       " 'GPE',\n",
       " '',\n",
       " '',\n",
       " 'PERSON',\n",
       " '',\n",
       " '',\n",
       " '',\n",
       " '',\n",
       " '',\n",
       " '',\n",
       " '',\n",
       " '',\n",
       " '',\n",
       " '',\n",
       " '',\n",
       " '',\n",
       " '',\n",
       " '',\n",
       " 'GPE',\n",
       " '',\n",
       " 'GPE',\n",
       " '',\n",
       " '',\n",
       " '',\n",
       " 'PERSON',\n",
       " '',\n",
       " '',\n",
       " '',\n",
       " 'PERSON',\n",
       " 'PERSON',\n",
       " 'PERSON',\n",
       " '',\n",
       " 'DATE',\n",
       " '',\n",
       " '',\n",
       " 'DATE',\n",
       " 'DATE',\n",
       " 'DATE',\n",
       " 'DATE',\n",
       " 'DATE',\n",
       " 'DATE',\n",
       " '',\n",
       " '',\n",
       " '',\n",
       " '',\n",
       " '',\n",
       " '',\n",
       " '',\n",
       " '',\n",
       " '',\n",
       " 'CARDINAL',\n",
       " '',\n",
       " '',\n",
       " '',\n",
       " '',\n",
       " 'PERSON',\n",
       " '',\n",
       " '',\n",
       " '',\n",
       " '',\n",
       " '',\n",
       " '',\n",
       " '',\n",
       " '',\n",
       " '',\n",
       " '',\n",
       " 'PERSON',\n",
       " '']"
      ]
     },
     "execution_count": 52,
     "metadata": {},
     "output_type": "execute_result"
    }
   ],
   "source": [
    "[vocab_ent[id_] for id_ in train[0][4]]"
   ]
  },
  {
   "cell_type": "code",
   "execution_count": 43,
   "metadata": {},
   "outputs": [
    {
     "name": "stdout",
     "output_type": "stream",
     "text": [
      "question_id [224, 215, 10, 3, 3804, 711, 5858, 627, 6, 9045, 6, 23146, 197, 2]\n"
     ]
    }
   ],
   "source": [
    "print('question_id', train[0][5])"
   ]
  },
  {
   "cell_type": "code",
   "execution_count": 55,
   "metadata": {},
   "outputs": [
    {
     "data": {
      "text/plain": [
       "['To',\n",
       " 'whom',\n",
       " 'did',\n",
       " 'the',\n",
       " 'Virgin',\n",
       " 'Mary',\n",
       " 'allegedly',\n",
       " 'appear',\n",
       " 'in',\n",
       " '1858',\n",
       " 'in',\n",
       " 'Lourdes',\n",
       " 'France',\n",
       " '?']"
      ]
     },
     "execution_count": 55,
     "metadata": {},
     "output_type": "execute_result"
    }
   ],
   "source": [
    "[vocab[id_] for id_ in train[0][5]]"
   ]
  },
  {
   "cell_type": "code",
   "execution_count": 46,
   "metadata": {},
   "outputs": [
    {
     "name": "stdout",
     "output_type": "stream",
     "text": [
      "context Architecturally, the school has a Catholic character. Atop the Main Building's gold dome is a golden statue of the Virgin Mary. Immediately in front of the Main Building and facing it, is a copper statue of Christ with arms upraised with the legend \"Venite Ad Me Omnes\". Next to the Main Building is the Basilica of the Sacred Heart. Immediately behind the basilica is the Grotto, a Marian place of prayer and reflection. It is a replica of the grotto at Lourdes, France where the Virgin Mary reputedly appeared to Saint Bernadette Soubirous in 1858. At the end of the main drive (and in a direct line that connects through 3 statues and the Gold Dome), is a simple, modern stone statue of Mary.\n"
     ]
    }
   ],
   "source": [
    "print('context', train[0][6])"
   ]
  },
  {
   "cell_type": "code",
   "execution_count": 47,
   "metadata": {},
   "outputs": [
    {
     "name": "stdout",
     "output_type": "stream",
     "text": [
      "context_token_span [[0, 15], [15, 16], [17, 20], [21, 27], [28, 31], [32, 33], [34, 42], [43, 52], [52, 53], [54, 58], [59, 62], [63, 67], [68, 76], [76, 78], [79, 83], [84, 88], [89, 91], [92, 93], [94, 100], [101, 107], [108, 110], [111, 114], [115, 121], [122, 126], [126, 127], [128, 139], [140, 142], [143, 148], [149, 151], [152, 155], [156, 160], [161, 169], [170, 173], [174, 180], [181, 183], [183, 184], [185, 187], [188, 189], [190, 196], [197, 203], [204, 206], [207, 213], [214, 218], [219, 223], [224, 232], [233, 237], [238, 241], [242, 248], [249, 250], [250, 256], [257, 259], [260, 262], [263, 268], [268, 269], [269, 270], [271, 275], [276, 278], [279, 282], [283, 287], [288, 296], [297, 299], [300, 303], [304, 312], [313, 315], [316, 319], [320, 326], [327, 332], [332, 333], [334, 345], [346, 352], [353, 356], [357, 365], [366, 368], [369, 372], [373, 379], [379, 380], [381, 382], [383, 389], [390, 395], [396, 398], [399, 405], [406, 409], [410, 420], [420, 421], [422, 424], [425, 427], [428, 429], [430, 437], [438, 440], [441, 444], [445, 451], [452, 454], [455, 462], [462, 463], [464, 470], [471, 476], [477, 480], [481, 487], [488, 492], [493, 502], [503, 511], [512, 514], [515, 520], [521, 531], [532, 541], [542, 544], [545, 549], [549, 550], [551, 553], [554, 557], [558, 561], [562, 564], [565, 568], [569, 573], [574, 579], [580, 581], [581, 584], [585, 587], [588, 589], [590, 596], [597, 601], [602, 606], [607, 615], [616, 623], [624, 625], [626, 633], [634, 637], [638, 641], [642, 646], [647, 651], [651, 652], [652, 653], [654, 656], [657, 658], [659, 665], [665, 666], [667, 673], [674, 679], [680, 686], [687, 689], [690, 694], [694, 695]]\n"
     ]
    }
   ],
   "source": [
    "print('context_token_span', train[0][7])"
   ]
  },
  {
   "cell_type": "code",
   "execution_count": 49,
   "metadata": {},
   "outputs": [
    {
     "name": "stdout",
     "output_type": "stream",
     "text": [
      "answer_start 102\n"
     ]
    }
   ],
   "source": [
    "print('answer_start', train[0][8])"
   ]
  },
  {
   "cell_type": "code",
   "execution_count": 50,
   "metadata": {},
   "outputs": [
    {
     "name": "stdout",
     "output_type": "stream",
     "text": [
      "answer_end 104\n"
     ]
    }
   ],
   "source": [
    "print('answer_end', train[0][9])"
   ]
  },
  {
   "cell_type": "code",
   "execution_count": null,
   "metadata": {},
   "outputs": [],
   "source": []
  },
  {
   "cell_type": "markdown",
   "metadata": {},
   "source": [
    "## Len of context in tokens"
   ]
  },
  {
   "cell_type": "code",
   "execution_count": 3,
   "metadata": {},
   "outputs": [],
   "source": [
    "data = load_pickled_object('SQuAD/train.pkl')"
   ]
  },
  {
   "cell_type": "code",
   "execution_count": 4,
   "metadata": {},
   "outputs": [],
   "source": [
    "context_lens = [len(p.context_tokens) for p in data]"
   ]
  },
  {
   "cell_type": "code",
   "execution_count": 14,
   "metadata": {},
   "outputs": [
    {
     "data": {
      "text/plain": [
       "18896"
      ]
     },
     "execution_count": 14,
     "metadata": {},
     "output_type": "execute_result"
    }
   ],
   "source": [
    "len(context_lens)"
   ]
  },
  {
   "cell_type": "code",
   "execution_count": 7,
   "metadata": {},
   "outputs": [
    {
     "data": {
      "image/png": "[encoded data removed]",
      "text/plain": [
       "<matplotlib.figure.Figure at 0x7ffb09a6f4e0>"
      ]
     },
     "metadata": {},
     "output_type": "display_data"
    }
   ],
   "source": [
    "plt.hist(context_lens, bins=50)\n",
    "plt.show()"
   ]
  },
  {
   "cell_type": "code",
   "execution_count": null,
   "metadata": {},
   "outputs": [],
   "source": []
  },
  {
   "cell_type": "markdown",
   "metadata": {},
   "source": [
    "## Len of questions in tokens"
   ]
  },
  {
   "cell_type": "code",
   "execution_count": 8,
   "metadata": {},
   "outputs": [],
   "source": [
    "q_lens = [len(qa.question_tokens) for p in data for qa in p.qas]"
   ]
  },
  {
   "cell_type": "code",
   "execution_count": 9,
   "metadata": {},
   "outputs": [
    {
     "data": {
      "text/plain": [
       "87599"
      ]
     },
     "execution_count": 9,
     "metadata": {},
     "output_type": "execute_result"
    }
   ],
   "source": [
    "len(q_lens)"
   ]
  },
  {
   "cell_type": "code",
   "execution_count": 10,
   "metadata": {},
   "outputs": [
    {
     "data": {
      "image/png": "[encoded data removed]",
      "text/plain": [
       "<matplotlib.figure.Figure at 0x7ffb099b1ef0>"
      ]
     },
     "metadata": {},
     "output_type": "display_data"
    }
   ],
   "source": [
    "plt.hist(q_lens, bins=50)\n",
    "plt.show()"
   ]
  },
  {
   "cell_type": "code",
   "execution_count": null,
   "metadata": {},
   "outputs": [],
   "source": []
  },
  {
   "cell_type": "markdown",
   "metadata": {},
   "source": [
    "## Len of answers in tokens"
   ]
  },
  {
   "cell_type": "code",
   "execution_count": 11,
   "metadata": {},
   "outputs": [],
   "source": [
    "a_lens = [a.end_token - a.start_token for p in data for qa in p.qas for a in qa.answers]"
   ]
  },
  {
   "cell_type": "code",
   "execution_count": 12,
   "metadata": {},
   "outputs": [
    {
     "data": {
      "text/plain": [
       "87599"
      ]
     },
     "execution_count": 12,
     "metadata": {},
     "output_type": "execute_result"
    }
   ],
   "source": [
    "len(a_lens)"
   ]
  },
  {
   "cell_type": "code",
   "execution_count": 67,
   "metadata": {},
   "outputs": [
    {
     "data": {
      "image/png": "[encoded data removed]",
      "text/plain": [
       "<matplotlib.figure.Figure at 0x7ffb586757f0>"
      ]
     },
     "metadata": {},
     "output_type": "display_data"
    }
   ],
   "source": [
    "plt.hist(a_lens, bins=40)\n",
    "plt.show()"
   ]
  },
  {
   "cell_type": "code",
   "execution_count": null,
   "metadata": {},
   "outputs": [],
   "source": []
  }
 ],
 "metadata": {
  "kernelspec": {
   "display_name": "Python 3",
   "language": "python",
   "name": "python3"
  },
  "language_info": {
   "codemirror_mode": {
    "name": "ipython",
    "version": 3
   },
   "file_extension": ".py",
   "mimetype": "text/x-python",
   "name": "python",
   "nbconvert_exporter": "python",
   "pygments_lexer": "ipython3",
   "version": "3.5.2"
  }
 },
 "nbformat": 4,
 "nbformat_minor": 2
}
