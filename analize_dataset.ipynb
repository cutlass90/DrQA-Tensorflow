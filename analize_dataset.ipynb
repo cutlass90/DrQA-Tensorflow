{
 "cells": [
  {
   "cell_type": "code",
   "execution_count": 1,
   "metadata": {},
   "outputs": [],
   "source": [
    "import os\n",
    "import json\n",
    "import pandas as pd\n",
    "import numpy as np\n",
    "import csv\n",
    "import msgpack\n",
    "\n",
    "import tools\n",
    "from config import config as c"
   ]
  },
  {
   "cell_type": "code",
   "execution_count": 2,
   "metadata": {},
   "outputs": [],
   "source": [
    "path_to_data = '/media/nazar/DATA/datasets/SQuAD/dev-v1.1.json'"
   ]
  },
  {
   "cell_type": "code",
   "execution_count": 3,
   "metadata": {},
   "outputs": [],
   "source": [
    "data = json.load(open(path_to_data, 'r'))"
   ]
  },
  {
   "cell_type": "code",
   "execution_count": 4,
   "metadata": {},
   "outputs": [
    {
     "data": {
      "text/plain": [
       "dict_keys(['version', 'data'])"
      ]
     },
     "execution_count": 4,
     "metadata": {},
     "output_type": "execute_result"
    }
   ],
   "source": [
    "data.keys()"
   ]
  },
  {
   "cell_type": "code",
   "execution_count": 5,
   "metadata": {},
   "outputs": [
    {
     "name": "stdout",
     "output_type": "stream",
     "text": [
      "data len 48\n",
      "dict_keys(['title', 'paragraphs'])\n"
     ]
    }
   ],
   "source": [
    "print('data len', len(data['data']))\n",
    "print(data['data'][0].keys())"
   ]
  },
  {
   "cell_type": "code",
   "execution_count": 6,
   "metadata": {},
   "outputs": [
    {
     "data": {
      "text/plain": [
       "'Super_Bowl_50'"
      ]
     },
     "execution_count": 6,
     "metadata": {},
     "output_type": "execute_result"
    }
   ],
   "source": [
    "data['data'][0]['title']"
   ]
  },
  {
   "cell_type": "code",
   "execution_count": 7,
   "metadata": {},
   "outputs": [
    {
     "name": "stdout",
     "output_type": "stream",
     "text": [
      "dict_keys(['context', 'qas'])\n",
      "context:\n",
      " Super Bowl 50 was an American football game to determine the champion of the National Football League (NFL) for the 2015 season. The American Football Conference (AFC) champion Denver Broncos defeated the National Football Conference (NFC) champion Carolina Panthers 24–10 to earn their third Super Bowl title. The game was played on February 7, 2016, at Levi's Stadium in the San Francisco Bay Area at Santa Clara, California. As this was the 50th Super Bowl, the league emphasized the \"golden anniversary\" with various gold-themed initiatives, as well as temporarily suspending the tradition of naming each Super Bowl game with Roman numerals (under which the game would have been known as \"Super Bowl L\"), so that the logo could prominently feature the Arabic numerals 50.\n",
      "qas:\n",
      " {'question': 'What 2015 NFL team one the AFC playoff?', 'answers': [{'text': 'Denver Broncos', 'answer_start': 177}, {'text': 'Denver Broncos', 'answer_start': 177}, {'text': 'Denver Broncos', 'answer_start': 177}], 'id': '56d9895ddc89441400fdb510'}\n"
     ]
    }
   ],
   "source": [
    "print(data['data'][0]['paragraphs'][0].keys())\n",
    "print('context:\\n', data['data'][0]['paragraphs'][0]['context'])\n",
    "print('qas:\\n', data['data'][0]['paragraphs'][0]['qas'][29])"
   ]
  },
  {
   "cell_type": "code",
   "execution_count": 8,
   "metadata": {},
   "outputs": [
    {
     "data": {
      "text/plain": [
       "dict_keys(['question', 'answers', 'id'])"
      ]
     },
     "execution_count": 8,
     "metadata": {},
     "output_type": "execute_result"
    }
   ],
   "source": [
    "data['data'][0]['paragraphs'][0]['qas'][0].keys()"
   ]
  },
  {
   "cell_type": "markdown",
   "metadata": {},
   "source": [
    "## JSON STRUCTURE"
   ]
  },
  {
   "cell_type": "code",
   "execution_count": 9,
   "metadata": {},
   "outputs": [
    {
     "data": {
      "text/plain": [
       "\"\\ndict:\\n    'data':list of dict\\n        'title': 'Super_Bowl_50'\\n        'paragraphs':list of dict\\n            'context': text\\n            'qas':list of dict\\n                'question':'Which NFL team represented the AFC at Super Bowl 50?'\\n                'id':'56be4db0acb8001400a502ec'\\n                'answers':list of dict   len=3\\n                    'answer_start':177\\n                    'text':'Denver Broncos'\\n    'version'\\n\""
      ]
     },
     "execution_count": 9,
     "metadata": {},
     "output_type": "execute_result"
    }
   ],
   "source": [
    "\"\"\"\n",
    "dict:\n",
    "    'data':list of dict\n",
    "        'title': 'Super_Bowl_50'\n",
    "        'paragraphs':list of dict\n",
    "            'context': text\n",
    "            'qas':list of dict\n",
    "                'question':'Which NFL team represented the AFC at Super Bowl 50?'\n",
    "                'id':'56be4db0acb8001400a502ec'\n",
    "                'answers':list of dict   len=3\n",
    "                    'answer_start':177\n",
    "                    'text':'Denver Broncos'\n",
    "    'version'\n",
    "\"\"\""
   ]
  },
  {
   "cell_type": "markdown",
   "metadata": {},
   "source": [
    "## test read_set"
   ]
  },
  {
   "cell_type": "code",
   "execution_count": 10,
   "metadata": {},
   "outputs": [],
   "source": [
    "paragraphs = tools.read_set(c.path_to_test_data)"
   ]
  },
  {
   "cell_type": "code",
   "execution_count": 11,
   "metadata": {},
   "outputs": [
    {
     "data": {
      "text/plain": [
       "2067"
      ]
     },
     "execution_count": 11,
     "metadata": {},
     "output_type": "execute_result"
    }
   ],
   "source": [
    "len(paragraphs)"
   ]
  },
  {
   "cell_type": "code",
   "execution_count": 12,
   "metadata": {},
   "outputs": [],
   "source": [
    "par = paragraphs[0]"
   ]
  },
  {
   "cell_type": "code",
   "execution_count": 13,
   "metadata": {},
   "outputs": [
    {
     "data": {
      "text/plain": [
       "'Super Bowl 50 was an American football game to determine the champion of the National Football League (NFL) for the 2015 season. The American Football Conference (AFC) champion Denver Broncos defeated the National Football Conference (NFC) champion Carolina Panthers 24–10 to earn their third Super Bowl title. The game was played on February 7, 2016, at Levi\\'s Stadium in the San Francisco Bay Area at Santa Clara, California. As this was the 50th Super Bowl, the league emphasized the \"golden anniversary\" with various gold-themed initiatives, as well as temporarily suspending the tradition of naming each Super Bowl game with Roman numerals (under which the game would have been known as \"Super Bowl L\"), so that the logo could prominently feature the Arabic numerals 50.'"
      ]
     },
     "execution_count": 13,
     "metadata": {},
     "output_type": "execute_result"
    }
   ],
   "source": [
    "par.context"
   ]
  },
  {
   "cell_type": "code",
   "execution_count": 14,
   "metadata": {},
   "outputs": [
    {
     "data": {
      "text/plain": [
       "'Super Bowl 50 was an American football game to determine the champion of the National Football League (NFL) for the 2015 season. The American Football Conference (AFC) champion '"
      ]
     },
     "execution_count": 14,
     "metadata": {},
     "output_type": "execute_result"
    }
   ],
   "source": [
    "par.context[:177]"
   ]
  },
  {
   "cell_type": "code",
   "execution_count": 15,
   "metadata": {},
   "outputs": [
    {
     "data": {
      "text/plain": [
       "30"
      ]
     },
     "execution_count": 15,
     "metadata": {},
     "output_type": "execute_result"
    }
   ],
   "source": [
    "len(par.qas)"
   ]
  },
  {
   "cell_type": "code",
   "execution_count": 16,
   "metadata": {},
   "outputs": [],
   "source": [
    "qa = par.qas[0]"
   ]
  },
  {
   "cell_type": "code",
   "execution_count": 17,
   "metadata": {},
   "outputs": [
    {
     "data": {
      "text/plain": [
       "'Which NFL team represented the AFC at Super Bowl 50?'"
      ]
     },
     "execution_count": 17,
     "metadata": {},
     "output_type": "execute_result"
    }
   ],
   "source": [
    "qa.question"
   ]
  },
  {
   "cell_type": "code",
   "execution_count": 18,
   "metadata": {},
   "outputs": [],
   "source": [
    "a = qa.answers[0]"
   ]
  },
  {
   "cell_type": "code",
   "execution_count": 19,
   "metadata": {},
   "outputs": [
    {
     "data": {
      "text/plain": [
       "177"
      ]
     },
     "execution_count": 19,
     "metadata": {},
     "output_type": "execute_result"
    }
   ],
   "source": [
    "a.start_char"
   ]
  },
  {
   "cell_type": "code",
   "execution_count": 20,
   "metadata": {},
   "outputs": [
    {
     "data": {
      "text/plain": [
       "'Denver Broncos'"
      ]
     },
     "execution_count": 20,
     "metadata": {},
     "output_type": "execute_result"
    }
   ],
   "source": [
    "a.text"
   ]
  },
  {
   "cell_type": "markdown",
   "metadata": {},
   "source": [
    "## test tokenize_paragraphs"
   ]
  },
  {
   "cell_type": "code",
   "execution_count": 21,
   "metadata": {},
   "outputs": [],
   "source": [
    "tokenized_paragraphs = tools.tokenize_paragraphs(paragraphs, c)"
   ]
  },
  {
   "cell_type": "code",
   "execution_count": 22,
   "metadata": {},
   "outputs": [
    {
     "data": {
      "text/plain": [
       "2067"
      ]
     },
     "execution_count": 22,
     "metadata": {},
     "output_type": "execute_result"
    }
   ],
   "source": [
    "len(tokenized_paragraphs)"
   ]
  },
  {
   "cell_type": "code",
   "execution_count": 23,
   "metadata": {},
   "outputs": [],
   "source": [
    "par = tokenized_paragraphs[0]"
   ]
  },
  {
   "cell_type": "code",
   "execution_count": 24,
   "metadata": {},
   "outputs": [
    {
     "data": {
      "text/plain": [
       "['Super',\n",
       " 'Bowl',\n",
       " '50',\n",
       " 'was',\n",
       " 'an',\n",
       " 'American',\n",
       " 'football',\n",
       " 'game',\n",
       " 'to',\n",
       " 'determine',\n",
       " 'the',\n",
       " 'champion',\n",
       " 'of',\n",
       " 'the',\n",
       " 'National',\n",
       " 'Football',\n",
       " 'League',\n",
       " '(',\n",
       " 'NFL',\n",
       " ')',\n",
       " 'for',\n",
       " 'the',\n",
       " '2015',\n",
       " 'season',\n",
       " '.',\n",
       " 'The',\n",
       " 'American',\n",
       " 'Football',\n",
       " 'Conference',\n",
       " '(',\n",
       " 'AFC',\n",
       " ')',\n",
       " 'champion',\n",
       " 'Denver',\n",
       " 'Broncos',\n",
       " 'defeated',\n",
       " 'the',\n",
       " 'National',\n",
       " 'Football',\n",
       " 'Conference',\n",
       " '(',\n",
       " 'NFC',\n",
       " ')',\n",
       " 'champion',\n",
       " 'Carolina',\n",
       " 'Panthers',\n",
       " '24–10',\n",
       " 'to',\n",
       " 'earn',\n",
       " 'their',\n",
       " 'third',\n",
       " 'Super',\n",
       " 'Bowl',\n",
       " 'title',\n",
       " '.',\n",
       " 'The',\n",
       " 'game',\n",
       " 'was',\n",
       " 'played',\n",
       " 'on',\n",
       " 'February',\n",
       " '7',\n",
       " ',',\n",
       " '2016',\n",
       " ',',\n",
       " 'at',\n",
       " 'Levi',\n",
       " \"'s\",\n",
       " 'Stadium',\n",
       " 'in',\n",
       " 'the',\n",
       " 'San',\n",
       " 'Francisco',\n",
       " 'Bay',\n",
       " 'Area',\n",
       " 'at',\n",
       " 'Santa',\n",
       " 'Clara',\n",
       " ',',\n",
       " 'California',\n",
       " '.',\n",
       " 'As',\n",
       " 'this',\n",
       " 'was',\n",
       " 'the',\n",
       " '50th',\n",
       " 'Super',\n",
       " 'Bowl',\n",
       " ',',\n",
       " 'the',\n",
       " 'league',\n",
       " 'emphasized',\n",
       " 'the',\n",
       " '\"',\n",
       " 'golden',\n",
       " 'anniversary',\n",
       " '\"',\n",
       " 'with',\n",
       " 'various',\n",
       " 'gold-themed',\n",
       " 'initiatives',\n",
       " ',',\n",
       " 'as',\n",
       " 'well',\n",
       " 'as',\n",
       " 'temporarily',\n",
       " 'suspending',\n",
       " 'the',\n",
       " 'tradition',\n",
       " 'of',\n",
       " 'naming',\n",
       " 'each',\n",
       " 'Super',\n",
       " 'Bowl',\n",
       " 'game',\n",
       " 'with',\n",
       " 'Roman',\n",
       " 'numerals',\n",
       " '(',\n",
       " 'under',\n",
       " 'which',\n",
       " 'the',\n",
       " 'game',\n",
       " 'would',\n",
       " 'have',\n",
       " 'been',\n",
       " 'known',\n",
       " 'as',\n",
       " '\"',\n",
       " 'Super',\n",
       " 'Bowl',\n",
       " 'L',\n",
       " '\"',\n",
       " ')',\n",
       " ',',\n",
       " 'so',\n",
       " 'that',\n",
       " 'the',\n",
       " 'logo',\n",
       " 'could',\n",
       " 'prominently',\n",
       " 'feature',\n",
       " 'the',\n",
       " 'Arabic',\n",
       " 'numerals',\n",
       " '50',\n",
       " '.']"
      ]
     },
     "execution_count": 24,
     "metadata": {},
     "output_type": "execute_result"
    }
   ],
   "source": [
    "par.context"
   ]
  },
  {
   "cell_type": "code",
   "execution_count": 25,
   "metadata": {},
   "outputs": [
    {
     "data": {
      "text/plain": [
       "'Denver'"
      ]
     },
     "execution_count": 25,
     "metadata": {},
     "output_type": "execute_result"
    }
   ],
   "source": [
    "par.context[33]"
   ]
  },
  {
   "cell_type": "code",
   "execution_count": 26,
   "metadata": {},
   "outputs": [
    {
     "data": {
      "text/plain": [
       "147"
      ]
     },
     "execution_count": 26,
     "metadata": {},
     "output_type": "execute_result"
    }
   ],
   "source": [
    "len(par.context)"
   ]
  },
  {
   "cell_type": "code",
   "execution_count": 27,
   "metadata": {},
   "outputs": [],
   "source": [
    "qa = par.qas[0]"
   ]
  },
  {
   "cell_type": "code",
   "execution_count": 28,
   "metadata": {},
   "outputs": [
    {
     "data": {
      "text/plain": [
       "['Which',\n",
       " 'NFL',\n",
       " 'team',\n",
       " 'represented',\n",
       " 'the',\n",
       " 'AFC',\n",
       " 'at',\n",
       " 'Super',\n",
       " 'Bowl',\n",
       " '50',\n",
       " '?']"
      ]
     },
     "execution_count": 28,
     "metadata": {},
     "output_type": "execute_result"
    }
   ],
   "source": [
    "qa.question"
   ]
  },
  {
   "cell_type": "code",
   "execution_count": 29,
   "metadata": {},
   "outputs": [],
   "source": [
    "a = qa.answers[0]"
   ]
  },
  {
   "cell_type": "code",
   "execution_count": 30,
   "metadata": {},
   "outputs": [
    {
     "data": {
      "text/plain": [
       "177"
      ]
     },
     "execution_count": 30,
     "metadata": {},
     "output_type": "execute_result"
    }
   ],
   "source": [
    "a.start_char"
   ]
  },
  {
   "cell_type": "code",
   "execution_count": 31,
   "metadata": {},
   "outputs": [
    {
     "data": {
      "text/plain": [
       "['Denver', 'Broncos']"
      ]
     },
     "execution_count": 31,
     "metadata": {},
     "output_type": "execute_result"
    }
   ],
   "source": [
    "a.text"
   ]
  },
  {
   "cell_type": "code",
   "execution_count": 32,
   "metadata": {},
   "outputs": [
    {
     "data": {
      "text/plain": [
       "33"
      ]
     },
     "execution_count": 32,
     "metadata": {},
     "output_type": "execute_result"
    }
   ],
   "source": [
    "a.start_token"
   ]
  },
  {
   "cell_type": "code",
   "execution_count": 33,
   "metadata": {},
   "outputs": [
    {
     "data": {
      "text/plain": [
       "35"
      ]
     },
     "execution_count": 33,
     "metadata": {},
     "output_type": "execute_result"
    }
   ],
   "source": [
    "a.end_token"
   ]
  },
  {
   "cell_type": "code",
   "execution_count": null,
   "metadata": {},
   "outputs": [],
   "source": []
  },
  {
   "cell_type": "markdown",
   "metadata": {},
   "source": [
    "## test get_word_embeddings"
   ]
  },
  {
   "cell_type": "code",
   "execution_count": 34,
   "metadata": {
    "scrolled": true
   },
   "outputs": [],
   "source": [
    "matrix, word_to_ind = tools.get_word_embeddings(c)"
   ]
  },
  {
   "cell_type": "code",
   "execution_count": 35,
   "metadata": {},
   "outputs": [
    {
     "data": {
      "text/plain": [
       "(100000, 200)"
      ]
     },
     "execution_count": 35,
     "metadata": {},
     "output_type": "execute_result"
    }
   ],
   "source": [
    "matrix.shape"
   ]
  },
  {
   "cell_type": "code",
   "execution_count": 36,
   "metadata": {},
   "outputs": [
    {
     "data": {
      "text/plain": [
       "array([[  0.00000000e+00,   0.00000000e+00,   0.00000000e+00,\n",
       "          0.00000000e+00,   0.00000000e+00,   0.00000000e+00,\n",
       "          0.00000000e+00,   0.00000000e+00,   0.00000000e+00,\n",
       "          0.00000000e+00,   0.00000000e+00,   0.00000000e+00,\n",
       "          0.00000000e+00,   0.00000000e+00,   0.00000000e+00,\n",
       "          0.00000000e+00,   0.00000000e+00,   0.00000000e+00,\n",
       "          0.00000000e+00,   0.00000000e+00,   0.00000000e+00,\n",
       "          0.00000000e+00,   0.00000000e+00,   0.00000000e+00,\n",
       "          0.00000000e+00,   0.00000000e+00,   0.00000000e+00,\n",
       "          0.00000000e+00,   0.00000000e+00,   0.00000000e+00,\n",
       "          0.00000000e+00,   0.00000000e+00,   0.00000000e+00,\n",
       "          0.00000000e+00,   0.00000000e+00,   0.00000000e+00,\n",
       "          0.00000000e+00,   0.00000000e+00,   0.00000000e+00,\n",
       "          0.00000000e+00,   0.00000000e+00,   0.00000000e+00,\n",
       "          0.00000000e+00,   0.00000000e+00,   0.00000000e+00,\n",
       "          0.00000000e+00,   0.00000000e+00,   0.00000000e+00,\n",
       "          0.00000000e+00,   0.00000000e+00,   0.00000000e+00,\n",
       "          0.00000000e+00,   0.00000000e+00,   0.00000000e+00,\n",
       "          0.00000000e+00,   0.00000000e+00,   0.00000000e+00,\n",
       "          0.00000000e+00,   0.00000000e+00,   0.00000000e+00,\n",
       "          0.00000000e+00,   0.00000000e+00,   0.00000000e+00,\n",
       "          0.00000000e+00,   0.00000000e+00,   0.00000000e+00,\n",
       "          0.00000000e+00,   0.00000000e+00,   0.00000000e+00,\n",
       "          0.00000000e+00,   0.00000000e+00,   0.00000000e+00,\n",
       "          0.00000000e+00,   0.00000000e+00,   0.00000000e+00,\n",
       "          0.00000000e+00,   0.00000000e+00,   0.00000000e+00,\n",
       "          0.00000000e+00,   0.00000000e+00,   0.00000000e+00,\n",
       "          0.00000000e+00,   0.00000000e+00,   0.00000000e+00,\n",
       "          0.00000000e+00,   0.00000000e+00,   0.00000000e+00,\n",
       "          0.00000000e+00,   0.00000000e+00,   0.00000000e+00,\n",
       "          0.00000000e+00,   0.00000000e+00,   0.00000000e+00,\n",
       "          0.00000000e+00,   0.00000000e+00,   0.00000000e+00,\n",
       "          0.00000000e+00,   0.00000000e+00,   0.00000000e+00,\n",
       "          0.00000000e+00,   0.00000000e+00,   0.00000000e+00,\n",
       "          0.00000000e+00,   0.00000000e+00,   0.00000000e+00,\n",
       "          0.00000000e+00,   0.00000000e+00,   0.00000000e+00,\n",
       "          0.00000000e+00,   0.00000000e+00,   0.00000000e+00,\n",
       "          0.00000000e+00,   0.00000000e+00,   0.00000000e+00,\n",
       "          0.00000000e+00,   0.00000000e+00,   0.00000000e+00,\n",
       "          0.00000000e+00,   0.00000000e+00,   0.00000000e+00,\n",
       "          0.00000000e+00,   0.00000000e+00,   0.00000000e+00,\n",
       "          0.00000000e+00,   0.00000000e+00,   0.00000000e+00,\n",
       "          0.00000000e+00,   0.00000000e+00,   0.00000000e+00,\n",
       "          0.00000000e+00,   0.00000000e+00,   0.00000000e+00,\n",
       "          0.00000000e+00,   0.00000000e+00,   0.00000000e+00,\n",
       "          0.00000000e+00,   0.00000000e+00,   0.00000000e+00,\n",
       "          0.00000000e+00,   0.00000000e+00,   0.00000000e+00,\n",
       "          0.00000000e+00,   0.00000000e+00,   0.00000000e+00,\n",
       "          0.00000000e+00,   0.00000000e+00,   0.00000000e+00,\n",
       "          0.00000000e+00,   0.00000000e+00,   0.00000000e+00,\n",
       "          0.00000000e+00,   0.00000000e+00,   0.00000000e+00,\n",
       "          0.00000000e+00,   0.00000000e+00,   0.00000000e+00,\n",
       "          0.00000000e+00,   0.00000000e+00,   0.00000000e+00,\n",
       "          0.00000000e+00,   0.00000000e+00,   0.00000000e+00,\n",
       "          0.00000000e+00,   0.00000000e+00,   0.00000000e+00,\n",
       "          0.00000000e+00,   0.00000000e+00,   0.00000000e+00,\n",
       "          0.00000000e+00,   0.00000000e+00,   0.00000000e+00,\n",
       "          0.00000000e+00,   0.00000000e+00,   0.00000000e+00,\n",
       "          0.00000000e+00,   0.00000000e+00,   0.00000000e+00,\n",
       "          0.00000000e+00,   0.00000000e+00,   0.00000000e+00,\n",
       "          0.00000000e+00,   0.00000000e+00,   0.00000000e+00,\n",
       "          0.00000000e+00,   0.00000000e+00,   0.00000000e+00,\n",
       "          0.00000000e+00,   0.00000000e+00,   0.00000000e+00,\n",
       "          0.00000000e+00,   0.00000000e+00,   0.00000000e+00,\n",
       "          0.00000000e+00,   0.00000000e+00,   0.00000000e+00,\n",
       "          0.00000000e+00,   0.00000000e+00,   0.00000000e+00,\n",
       "          0.00000000e+00,   0.00000000e+00],\n",
       "       [ -7.15490000e-02,   9.34590000e-02,   2.37380000e-02,\n",
       "         -9.03390000e-02,   5.61230000e-02,   3.25470000e-01,\n",
       "         -3.97960000e-01,  -9.21390000e-02,   6.11810000e-02,\n",
       "         -1.89500000e-01,   1.30610000e-01,   1.43490000e-01,\n",
       "          1.14790000e-02,   3.81580000e-01,   5.40300000e-01,\n",
       "         -1.40880000e-01,   2.43150000e-01,   2.30360000e-01,\n",
       "         -5.53390000e-01,   4.81540000e-02,   4.56620000e-01,\n",
       "          3.23380000e+00,   2.01990000e-02,   4.90190000e-02,\n",
       "         -1.41320000e-02,   7.60170000e-02,  -1.15270000e-01,\n",
       "          2.00600000e-01,  -7.76570000e-02,   2.43280000e-01,\n",
       "          1.63680000e-01,  -3.41180000e-01,  -6.60700000e-02,\n",
       "          1.01520000e-01,   3.82320000e-02,  -1.76680000e-01,\n",
       "         -8.81530000e-01,  -3.38950000e-01,  -3.54810000e-02,\n",
       "         -5.50950000e-01,  -1.68990000e-02,  -4.39820000e-01,\n",
       "          3.90040000e-02,   4.04470000e-01,  -2.58800000e-01,\n",
       "          6.45940000e-01,   2.66410000e-01,   2.80090000e-01,\n",
       "         -2.46250000e-02,   6.33020000e-01,  -3.17000000e-01,\n",
       "          1.02710000e-01,   3.08860000e-01,   9.77920000e-02,\n",
       "         -3.82270000e-01,   8.65520000e-02,   4.70750000e-02,\n",
       "          2.35110000e-01,  -3.21270000e-01,  -2.85380000e-01,\n",
       "          1.66700000e-01,  -4.97070000e-03,  -6.27140000e-01,\n",
       "         -2.49040000e-01,   2.97130000e-01,   1.43790000e-01,\n",
       "         -1.23250000e-01,  -5.81780000e-02,  -1.02900000e-03,\n",
       "         -8.21260000e-02,   3.69350000e-01,  -5.84420000e-04,\n",
       "          3.42860000e-01,   2.84260000e-01,  -6.85990000e-02,\n",
       "          6.57470000e-01,  -2.90870000e-02,   1.61840000e-01,\n",
       "          7.36720000e-02,  -3.03430000e-01,   9.57330000e-02,\n",
       "         -5.28600000e-01,  -2.28980000e-01,   6.40790000e-02,\n",
       "          1.52180000e-02,   3.49210000e-01,  -4.39600000e-01,\n",
       "         -4.39830000e-01,   7.75150000e-01,  -8.77670000e-01,\n",
       "         -8.75040000e-02,   3.95980000e-01,   6.23620000e-01,\n",
       "         -2.62110000e-01,  -3.05390000e-01,  -2.29640000e-02,\n",
       "          3.05670000e-01,   6.76600000e-02,   1.53830000e-01,\n",
       "         -1.12110000e-01,  -9.15400000e-02,   8.25620000e-02,\n",
       "          1.68970000e-01,  -3.29520000e-02,  -2.87750000e-01,\n",
       "         -2.23200000e-01,  -9.04260000e-02,   1.24070000e+00,\n",
       "         -1.82440000e-01,  -7.52190000e-03,  -4.13880000e-02,\n",
       "         -1.10830000e-02,   7.81860000e-02,   3.85110000e-01,\n",
       "          2.33340000e-01,   1.44140000e-01,  -9.10700000e-04,\n",
       "         -2.63880000e-01,  -2.04810000e-01,   1.00990000e-01,\n",
       "          1.40760000e-01,   2.88340000e-01,  -4.54290000e-02,\n",
       "          3.72470000e-01,   1.36450000e-01,  -6.74570000e-01,\n",
       "          2.27860000e-01,   1.25990000e-01,   2.90910000e-02,\n",
       "          3.04280000e-02,  -1.30280000e-01,   1.94080000e-01,\n",
       "          4.90140000e-01,  -3.91210000e-01,  -7.59520000e-02,\n",
       "          7.47310000e-02,   1.89020000e-01,  -1.69220000e-01,\n",
       "         -2.60190000e-01,  -3.97710000e-02,  -2.41530000e-01,\n",
       "          1.08750000e-01,   3.04340000e-01,   3.60090000e-02,\n",
       "          1.42640000e+00,   1.27590000e-01,  -7.38110000e-02,\n",
       "         -2.04180000e-01,   8.00160000e-03,   1.53810000e-01,\n",
       "          2.02230000e-01,   2.82740000e-01,   9.62060000e-02,\n",
       "         -3.36340000e-01,   5.09830000e-01,   3.26250000e-01,\n",
       "         -2.65350000e-01,   3.74000000e-01,  -3.03880000e-01,\n",
       "         -4.00330000e-01,  -4.29100000e-02,  -6.78970000e-02,\n",
       "         -2.93320000e-01,   1.09780000e-01,  -4.53650000e-02,\n",
       "          2.32220000e-01,  -3.11340000e-01,  -2.89830000e-01,\n",
       "         -6.66870000e-01,   5.30970000e-01,   1.94610000e-01,\n",
       "          3.66700000e-01,   2.61850000e-01,  -6.51870000e-01,\n",
       "          1.02660000e-01,   1.13630000e-01,  -1.29530000e-01,\n",
       "         -6.82460000e-01,  -1.87510000e-01,   1.47600000e-01,\n",
       "          1.07650000e+00,  -2.29080000e-01,  -9.34350000e-03,\n",
       "         -2.06510000e-01,  -3.52250000e-01,  -2.67200000e-01,\n",
       "         -3.43070000e-03,   2.59060000e-01,   2.17590000e-01,\n",
       "          6.61580000e-01,   1.21800000e-01,   1.99570000e-01,\n",
       "         -2.03030000e-01,   3.44740000e-01,  -2.43280000e-01,\n",
       "          1.31390000e-01,  -8.87670000e-03,   3.36170000e-01,\n",
       "          3.05910000e-02,   2.55770000e-01],\n",
       "       [  1.76510000e-01,   2.92080000e-01,  -2.07680000e-03,\n",
       "         -3.75230000e-01,   4.91390000e-03,   2.39790000e-01,\n",
       "         -2.88930000e-01,  -1.46430000e-02,  -1.09930000e-01,\n",
       "          1.55920000e-01,   2.06270000e-01,   4.76750000e-01,\n",
       "          9.99070000e-02,  -1.40580000e-01,   2.11140000e-01,\n",
       "          1.21260000e-01,  -3.18310000e-01,  -8.94330000e-02,\n",
       "         -9.05530000e-02,  -3.19620000e-01,   2.13190000e-01,\n",
       "          2.48440000e+00,  -7.75210000e-02,  -8.42790000e-02,\n",
       "          2.01860000e-01,   2.60840000e-01,  -4.04110000e-01,\n",
       "         -1.91270000e-01,   2.47150000e-01,   2.23940000e-01,\n",
       "         -6.34370000e-02,   2.03790000e-01,  -1.84630000e-01,\n",
       "         -8.84130000e-02,   2.41690000e-02,  -2.87690000e-01,\n",
       "         -6.12460000e-01,  -1.26830000e-01,  -8.82730000e-02,\n",
       "          1.83310000e-01,  -5.31610000e-01,  -1.99700000e-01,\n",
       "         -2.67030000e-01,   1.53120000e-01,  -1.52390000e-02,\n",
       "         -8.28440000e-02,   4.78560000e-01,  -2.96120000e-01,\n",
       "          1.11680000e-01,  -2.57900000e-02,  -1.16970000e-02,\n",
       "          1.99230000e-01,  -1.42670000e-01,   6.62500000e-01,\n",
       "         -5.17390000e-02,  -1.69380000e-01,  -1.56350000e-01,\n",
       "          9.28060000e-02,   3.25480000e-01,   1.17240000e-01,\n",
       "          2.87880000e-01,  -6.06510000e-02,  -1.41530000e-01,\n",
       "          1.66680000e-01,   2.68610000e-01,  -3.10010000e-02,\n",
       "         -3.96650000e-01,   3.53040000e-01,   2.38500000e-01,\n",
       "          1.23880000e-01,   4.56980000e-01,  -1.25590000e-01,\n",
       "         -1.28040000e-01,   3.74490000e-01,   2.44600000e-01,\n",
       "          2.30730000e-01,   2.08080000e-01,   5.12580000e-02,\n",
       "         -2.18160000e-01,  -3.64090000e-02,  -3.88000000e-02,\n",
       "         -4.24870000e-02,  -3.07790000e-01,  -2.54490000e-02,\n",
       "          2.25320000e-01,   4.55380000e-02,  -4.89340000e-01,\n",
       "         -1.39880000e-01,   1.73940000e-01,  -4.61370000e-01,\n",
       "         -2.65550000e-01,   1.54730000e-01,   6.38160000e-02,\n",
       "         -1.70220000e-01,  -1.57620000e-01,   7.57650000e-02,\n",
       "          1.21510000e-01,  -4.93400000e-01,  -1.09090000e-01,\n",
       "          3.44870000e-02,   2.99470000e-01,   1.86900000e-02,\n",
       "         -1.65340000e-01,   1.66790000e-02,   1.63410000e-01,\n",
       "         -2.74180000e-01,   7.77970000e-02,   1.40230000e+00,\n",
       "          2.52750000e-02,   9.47250000e-02,  -4.07350000e-02,\n",
       "         -1.06420000e-01,   2.33640000e-02,   7.91430000e-02,\n",
       "         -1.66150000e-01,  -2.30130000e-01,  -1.40710000e-01,\n",
       "          4.01590000e-01,  -3.49510000e-01,   1.85450000e-02,\n",
       "          2.24340000e-01,   7.69220000e-01,   2.47220000e-01,\n",
       "          1.49360000e-01,   4.23680000e-01,  -7.20590000e-01,\n",
       "         -3.85410000e-02,   1.55220000e-01,   3.35960000e-01,\n",
       "         -4.30770000e-01,  -2.69250000e-02,  -3.77330000e-01,\n",
       "          2.42710000e-01,  -4.64950000e-01,   4.57830000e-01,\n",
       "          2.36930000e-01,   7.93610000e-02,  -3.22440000e-01,\n",
       "         -4.24340000e-01,  -1.11380000e-01,   5.54260000e-01,\n",
       "          8.51530000e-02,  -2.05810000e-02,  -4.63860000e-02,\n",
       "          1.24670000e+00,   1.31770000e-01,   6.70920000e-02,\n",
       "         -5.77800000e-01,   1.35860000e-02,  -7.12740000e-02,\n",
       "          1.73110000e-02,   8.97810000e-02,   1.98570000e-01,\n",
       "         -3.22050000e-02,   6.48430000e-01,  -2.37970000e-01,\n",
       "         -1.96760000e-01,   2.02030000e-01,   2.10740000e-01,\n",
       "         -5.03470000e-01,   2.68230000e-02,  -4.54440000e-02,\n",
       "         -2.26420000e-01,  -1.99770000e-01,  -1.21380000e-01,\n",
       "          1.69410000e-01,   6.19980000e-02,   4.26310000e-01,\n",
       "         -8.83830000e-02,   4.57560000e-01,   7.77740000e-02,\n",
       "          6.13420000e-02,   4.57100000e-01,  -1.77870000e-01,\n",
       "         -1.45970000e-01,   3.26540000e-01,   2.44300000e-03,\n",
       "         -1.18860000e-01,   1.00810000e-01,  -2.00110000e-02,\n",
       "          1.03660000e+00,  -3.98140000e-01,  -6.81800000e-01,\n",
       "          2.36850000e-01,  -2.03960000e-01,  -1.76680000e-01,\n",
       "         -3.13850000e-01,   1.48340000e-01,  -5.21870000e-02,\n",
       "          6.13000000e-02,  -3.25820000e-01,   1.91530000e-01,\n",
       "         -1.54690000e-01,  -1.46790000e-01,   4.69710000e-02,\n",
       "          3.23250000e-02,  -2.20060000e-01,  -2.07740000e-01,\n",
       "         -2.31890000e-01,  -1.08140000e-01]])"
      ]
     },
     "execution_count": 36,
     "metadata": {},
     "output_type": "execute_result"
    }
   ],
   "source": [
    "matrix[:3]"
   ]
  },
  {
   "cell_type": "markdown",
   "metadata": {},
   "source": [
    "## test vectorize_paragraphs"
   ]
  },
  {
   "cell_type": "code",
   "execution_count": 37,
   "metadata": {},
   "outputs": [
    {
     "name": "stdout",
     "output_type": "stream",
     "text": [
      "WARNING! Provided context is too long. It will be cutted. 576 > 400\n",
      "WARNING! Provided context is too long. It will be cutted. 525 > 400\n",
      "WARNING! Provided context is too long. It will be cutted. 420 > 400\n",
      "WARNING! Provided context is too long. It will be cutted. 469 > 400\n",
      "WARNING! Provided context is too long. It will be cutted. 425 > 400\n",
      "WARNING! Provided context is too long. It will be cutted. 567 > 400\n",
      "WARNING! Provided context is too long. It will be cutted. 562 > 400\n",
      "WARNING! Provided context is too long. It will be cutted. 441 > 400\n",
      "WARNING! Provided context is too long. It will be cutted. 406 > 400\n",
      "WARNING! Provided context is too long. It will be cutted. 616 > 400\n",
      "WARNING! Provided context is too long. It will be cutted. 409 > 400\n",
      "WARNING! Provided context is too long. It will be cutted. 700 > 400\n",
      "WARNING! Provided context is too long. It will be cutted. 492 > 400\n",
      "WARNING! Provided anser is too long. It will be cutted. 37 > 30\n",
      "WARNING! Provided context is too long. It will be cutted. 594 > 400\n",
      "WARNING! Provided context is too long. It will be cutted. 403 > 400\n",
      "WARNING! Provided anser is too long. It will be cutted. 33 > 30\n",
      "WARNING! Provided anser is too long. It will be cutted. 34 > 30\n",
      "WARNING! Provided context is too long. It will be cutted. 419 > 400\n"
     ]
    }
   ],
   "source": [
    "padded_paragraphs = tools.vectorize_paragraphs(tokenized_paragraphs, word_to_ind, c)"
   ]
  },
  {
   "cell_type": "code",
   "execution_count": 38,
   "metadata": {},
   "outputs": [
    {
     "data": {
      "text/plain": [
       "2067"
      ]
     },
     "execution_count": 38,
     "metadata": {},
     "output_type": "execute_result"
    }
   ],
   "source": [
    "len(padded_paragraphs)"
   ]
  },
  {
   "cell_type": "code",
   "execution_count": 39,
   "metadata": {},
   "outputs": [],
   "source": [
    "par = padded_paragraphs[0]"
   ]
  },
  {
   "cell_type": "code",
   "execution_count": 40,
   "metadata": {},
   "outputs": [
    {
     "data": {
      "text/plain": [
       "(400,)"
      ]
     },
     "execution_count": 40,
     "metadata": {},
     "output_type": "execute_result"
    }
   ],
   "source": [
    "par.context.shape"
   ]
  },
  {
   "cell_type": "code",
   "execution_count": 41,
   "metadata": {},
   "outputs": [
    {
     "data": {
      "text/plain": [
       "array([    0,     0,   693,    16,    30,     0,   536,   187,     5,\n",
       "        2388,     1,  1060,     4,     1,     0,     0,     0,    24,\n",
       "           0,    25,    11,     1,  9471,   196,     3,     0,     0,\n",
       "           0,     0,    24,     0,    25,  1060,     0,     0,  1954,\n",
       "           1,     0,     0,     0,    24,     0,    25,  1060,     0,\n",
       "           0,     0,     5,  3850,    45,   246,     0,     0,   699,\n",
       "           3,     0,   187,    16,   335,    14,     0,   633,     2,\n",
       "       15464,     2,    23,     0,    10,     0,     7,     1,     0,\n",
       "           0,     0,     0,    23,     0,     0,     2,     0,     3,\n",
       "           0,    38,    16,     1,  7967,     0,     0,     2,     1,\n",
       "         293,  6704,     1,     9,  2411,  2350,     9,    18,   918,\n",
       "           0,  5724,     2,    20,   144,    20,  5054, 14484,     1,\n",
       "        2837,     4,  7434,   237,     0,     0,   187,    18,     0,\n",
       "       34138,    24,   125,    43,     1,   187,    55,    34,    52,\n",
       "         226,    20,     9,     0,     0,     0,     9,    25,     2,\n",
       "         101,    13,     1,  7149,    95, 12771,  2048,     1,     0,\n",
       "       34138,   693,     3,     0,     0,     0,     0,     0,     0,\n",
       "           0,     0,     0,     0,     0,     0,     0,     0,     0,\n",
       "           0,     0,     0,     0,     0,     0,     0,     0,     0,\n",
       "           0,     0,     0,     0,     0,     0,     0,     0,     0,\n",
       "           0,     0,     0,     0,     0,     0,     0,     0,     0,\n",
       "           0,     0,     0,     0,     0,     0,     0,     0,     0,\n",
       "           0,     0,     0,     0,     0,     0,     0,     0,     0,\n",
       "           0,     0,     0,     0,     0,     0,     0,     0,     0,\n",
       "           0,     0,     0,     0,     0,     0,     0,     0,     0,\n",
       "           0,     0,     0,     0,     0,     0,     0,     0,     0,\n",
       "           0,     0,     0,     0,     0,     0,     0,     0,     0,\n",
       "           0,     0,     0,     0,     0,     0,     0,     0,     0,\n",
       "           0,     0,     0,     0,     0,     0,     0,     0,     0,\n",
       "           0,     0,     0,     0,     0,     0,     0,     0,     0,\n",
       "           0,     0,     0,     0,     0,     0,     0,     0,     0,\n",
       "           0,     0,     0,     0,     0,     0,     0,     0,     0,\n",
       "           0,     0,     0,     0,     0,     0,     0,     0,     0,\n",
       "           0,     0,     0,     0,     0,     0,     0,     0,     0,\n",
       "           0,     0,     0,     0,     0,     0,     0,     0,     0,\n",
       "           0,     0,     0,     0,     0,     0,     0,     0,     0,\n",
       "           0,     0,     0,     0,     0,     0,     0,     0,     0,\n",
       "           0,     0,     0,     0,     0,     0,     0,     0,     0,\n",
       "           0,     0,     0,     0,     0,     0,     0,     0,     0,\n",
       "           0,     0,     0,     0,     0,     0,     0,     0,     0,\n",
       "           0,     0,     0,     0,     0,     0,     0,     0,     0,\n",
       "           0,     0,     0,     0,     0,     0,     0,     0,     0,\n",
       "           0,     0,     0,     0,     0,     0,     0,     0,     0,\n",
       "           0,     0,     0,     0,     0,     0,     0,     0,     0,\n",
       "           0,     0,     0,     0], dtype=int32)"
      ]
     },
     "execution_count": 41,
     "metadata": {},
     "output_type": "execute_result"
    }
   ],
   "source": [
    "par.context"
   ]
  },
  {
   "cell_type": "code",
   "execution_count": 42,
   "metadata": {},
   "outputs": [
    {
     "data": {
      "text/plain": [
       "2750"
      ]
     },
     "execution_count": 42,
     "metadata": {},
     "output_type": "execute_result"
    }
   ],
   "source": [
    "word_to_ind['#']"
   ]
  },
  {
   "cell_type": "code",
   "execution_count": 43,
   "metadata": {},
   "outputs": [
    {
     "data": {
      "text/plain": [
       "0"
      ]
     },
     "execution_count": 43,
     "metadata": {},
     "output_type": "execute_result"
    }
   ],
   "source": [
    "word_to_ind['#not_a_word#']"
   ]
  },
  {
   "cell_type": "code",
   "execution_count": 44,
   "metadata": {},
   "outputs": [],
   "source": [
    "ind_to_word = {v:k for k, v in word_to_ind.items()}"
   ]
  },
  {
   "cell_type": "code",
   "execution_count": 45,
   "metadata": {},
   "outputs": [
    {
     "data": {
      "text/plain": [
       "['#not_a_word#',\n",
       " '#not_a_word#',\n",
       " '50',\n",
       " 'was',\n",
       " 'an',\n",
       " '#not_a_word#',\n",
       " 'football',\n",
       " 'game',\n",
       " 'to',\n",
       " 'determine',\n",
       " 'the',\n",
       " 'champion',\n",
       " 'of',\n",
       " 'the',\n",
       " '#not_a_word#',\n",
       " '#not_a_word#',\n",
       " '#not_a_word#',\n",
       " '(',\n",
       " '#not_a_word#',\n",
       " ')',\n",
       " 'for',\n",
       " 'the',\n",
       " '2015',\n",
       " 'season',\n",
       " '.',\n",
       " '#not_a_word#',\n",
       " '#not_a_word#',\n",
       " '#not_a_word#',\n",
       " '#not_a_word#',\n",
       " '(',\n",
       " '#not_a_word#',\n",
       " ')',\n",
       " 'champion',\n",
       " '#not_a_word#',\n",
       " '#not_a_word#',\n",
       " 'defeated',\n",
       " 'the',\n",
       " '#not_a_word#',\n",
       " '#not_a_word#',\n",
       " '#not_a_word#',\n",
       " '(',\n",
       " '#not_a_word#',\n",
       " ')',\n",
       " 'champion',\n",
       " '#not_a_word#',\n",
       " '#not_a_word#',\n",
       " '#not_a_word#',\n",
       " 'to',\n",
       " 'earn',\n",
       " 'their',\n",
       " 'third',\n",
       " '#not_a_word#',\n",
       " '#not_a_word#',\n",
       " 'title',\n",
       " '.',\n",
       " '#not_a_word#',\n",
       " 'game',\n",
       " 'was',\n",
       " 'played',\n",
       " 'on',\n",
       " '#not_a_word#',\n",
       " '7',\n",
       " ',',\n",
       " '2016',\n",
       " ',',\n",
       " 'at',\n",
       " '#not_a_word#',\n",
       " \"'s\",\n",
       " '#not_a_word#',\n",
       " 'in',\n",
       " 'the',\n",
       " '#not_a_word#',\n",
       " '#not_a_word#',\n",
       " '#not_a_word#',\n",
       " '#not_a_word#',\n",
       " 'at',\n",
       " '#not_a_word#',\n",
       " '#not_a_word#',\n",
       " ',',\n",
       " '#not_a_word#',\n",
       " '.',\n",
       " '#not_a_word#',\n",
       " 'this',\n",
       " 'was',\n",
       " 'the',\n",
       " '50th',\n",
       " '#not_a_word#',\n",
       " '#not_a_word#',\n",
       " ',',\n",
       " 'the',\n",
       " 'league',\n",
       " 'emphasized',\n",
       " 'the',\n",
       " '\"',\n",
       " 'golden',\n",
       " 'anniversary',\n",
       " '\"',\n",
       " 'with',\n",
       " 'various',\n",
       " '#not_a_word#',\n",
       " 'initiatives',\n",
       " ',',\n",
       " 'as',\n",
       " 'well',\n",
       " 'as',\n",
       " 'temporarily',\n",
       " 'suspending',\n",
       " 'the',\n",
       " 'tradition',\n",
       " 'of',\n",
       " 'naming',\n",
       " 'each',\n",
       " '#not_a_word#',\n",
       " '#not_a_word#',\n",
       " 'game',\n",
       " 'with',\n",
       " '#not_a_word#',\n",
       " 'numerals',\n",
       " '(',\n",
       " 'under',\n",
       " 'which',\n",
       " 'the',\n",
       " 'game',\n",
       " 'would',\n",
       " 'have',\n",
       " 'been',\n",
       " 'known',\n",
       " 'as',\n",
       " '\"',\n",
       " '#not_a_word#',\n",
       " '#not_a_word#',\n",
       " '#not_a_word#',\n",
       " '\"',\n",
       " ')',\n",
       " ',',\n",
       " 'so',\n",
       " 'that',\n",
       " 'the',\n",
       " 'logo',\n",
       " 'could',\n",
       " 'prominently',\n",
       " 'feature',\n",
       " 'the',\n",
       " '#not_a_word#',\n",
       " 'numerals',\n",
       " '50',\n",
       " '.',\n",
       " '#not_a_word#',\n",
       " '#not_a_word#',\n",
       " '#not_a_word#',\n",
       " '#not_a_word#',\n",
       " '#not_a_word#',\n",
       " '#not_a_word#',\n",
       " '#not_a_word#',\n",
       " '#not_a_word#',\n",
       " '#not_a_word#',\n",
       " '#not_a_word#',\n",
       " '#not_a_word#',\n",
       " '#not_a_word#',\n",
       " '#not_a_word#',\n",
       " '#not_a_word#',\n",
       " '#not_a_word#',\n",
       " '#not_a_word#',\n",
       " '#not_a_word#',\n",
       " '#not_a_word#',\n",
       " '#not_a_word#',\n",
       " '#not_a_word#',\n",
       " '#not_a_word#',\n",
       " '#not_a_word#',\n",
       " '#not_a_word#',\n",
       " '#not_a_word#',\n",
       " '#not_a_word#',\n",
       " '#not_a_word#',\n",
       " '#not_a_word#',\n",
       " '#not_a_word#',\n",
       " '#not_a_word#',\n",
       " '#not_a_word#',\n",
       " '#not_a_word#',\n",
       " '#not_a_word#',\n",
       " '#not_a_word#',\n",
       " '#not_a_word#',\n",
       " '#not_a_word#',\n",
       " '#not_a_word#',\n",
       " '#not_a_word#',\n",
       " '#not_a_word#',\n",
       " '#not_a_word#',\n",
       " '#not_a_word#',\n",
       " '#not_a_word#',\n",
       " '#not_a_word#',\n",
       " '#not_a_word#',\n",
       " '#not_a_word#',\n",
       " '#not_a_word#',\n",
       " '#not_a_word#',\n",
       " '#not_a_word#',\n",
       " '#not_a_word#',\n",
       " '#not_a_word#',\n",
       " '#not_a_word#',\n",
       " '#not_a_word#',\n",
       " '#not_a_word#',\n",
       " '#not_a_word#',\n",
       " '#not_a_word#',\n",
       " '#not_a_word#',\n",
       " '#not_a_word#',\n",
       " '#not_a_word#',\n",
       " '#not_a_word#',\n",
       " '#not_a_word#',\n",
       " '#not_a_word#',\n",
       " '#not_a_word#',\n",
       " '#not_a_word#',\n",
       " '#not_a_word#',\n",
       " '#not_a_word#',\n",
       " '#not_a_word#',\n",
       " '#not_a_word#',\n",
       " '#not_a_word#',\n",
       " '#not_a_word#',\n",
       " '#not_a_word#',\n",
       " '#not_a_word#',\n",
       " '#not_a_word#',\n",
       " '#not_a_word#',\n",
       " '#not_a_word#',\n",
       " '#not_a_word#',\n",
       " '#not_a_word#',\n",
       " '#not_a_word#',\n",
       " '#not_a_word#',\n",
       " '#not_a_word#',\n",
       " '#not_a_word#',\n",
       " '#not_a_word#',\n",
       " '#not_a_word#',\n",
       " '#not_a_word#',\n",
       " '#not_a_word#',\n",
       " '#not_a_word#',\n",
       " '#not_a_word#',\n",
       " '#not_a_word#',\n",
       " '#not_a_word#',\n",
       " '#not_a_word#',\n",
       " '#not_a_word#',\n",
       " '#not_a_word#',\n",
       " '#not_a_word#',\n",
       " '#not_a_word#',\n",
       " '#not_a_word#',\n",
       " '#not_a_word#',\n",
       " '#not_a_word#',\n",
       " '#not_a_word#',\n",
       " '#not_a_word#',\n",
       " '#not_a_word#',\n",
       " '#not_a_word#',\n",
       " '#not_a_word#',\n",
       " '#not_a_word#',\n",
       " '#not_a_word#',\n",
       " '#not_a_word#',\n",
       " '#not_a_word#',\n",
       " '#not_a_word#',\n",
       " '#not_a_word#',\n",
       " '#not_a_word#',\n",
       " '#not_a_word#',\n",
       " '#not_a_word#',\n",
       " '#not_a_word#',\n",
       " '#not_a_word#',\n",
       " '#not_a_word#',\n",
       " '#not_a_word#',\n",
       " '#not_a_word#',\n",
       " '#not_a_word#',\n",
       " '#not_a_word#',\n",
       " '#not_a_word#',\n",
       " '#not_a_word#',\n",
       " '#not_a_word#',\n",
       " '#not_a_word#',\n",
       " '#not_a_word#',\n",
       " '#not_a_word#',\n",
       " '#not_a_word#',\n",
       " '#not_a_word#',\n",
       " '#not_a_word#',\n",
       " '#not_a_word#',\n",
       " '#not_a_word#',\n",
       " '#not_a_word#',\n",
       " '#not_a_word#',\n",
       " '#not_a_word#',\n",
       " '#not_a_word#',\n",
       " '#not_a_word#',\n",
       " '#not_a_word#',\n",
       " '#not_a_word#',\n",
       " '#not_a_word#',\n",
       " '#not_a_word#',\n",
       " '#not_a_word#',\n",
       " '#not_a_word#',\n",
       " '#not_a_word#',\n",
       " '#not_a_word#',\n",
       " '#not_a_word#',\n",
       " '#not_a_word#',\n",
       " '#not_a_word#',\n",
       " '#not_a_word#',\n",
       " '#not_a_word#',\n",
       " '#not_a_word#',\n",
       " '#not_a_word#',\n",
       " '#not_a_word#',\n",
       " '#not_a_word#',\n",
       " '#not_a_word#',\n",
       " '#not_a_word#',\n",
       " '#not_a_word#',\n",
       " '#not_a_word#',\n",
       " '#not_a_word#',\n",
       " '#not_a_word#',\n",
       " '#not_a_word#',\n",
       " '#not_a_word#',\n",
       " '#not_a_word#',\n",
       " '#not_a_word#',\n",
       " '#not_a_word#',\n",
       " '#not_a_word#',\n",
       " '#not_a_word#',\n",
       " '#not_a_word#',\n",
       " '#not_a_word#',\n",
       " '#not_a_word#',\n",
       " '#not_a_word#',\n",
       " '#not_a_word#',\n",
       " '#not_a_word#',\n",
       " '#not_a_word#',\n",
       " '#not_a_word#',\n",
       " '#not_a_word#',\n",
       " '#not_a_word#',\n",
       " '#not_a_word#',\n",
       " '#not_a_word#',\n",
       " '#not_a_word#',\n",
       " '#not_a_word#',\n",
       " '#not_a_word#',\n",
       " '#not_a_word#',\n",
       " '#not_a_word#',\n",
       " '#not_a_word#',\n",
       " '#not_a_word#',\n",
       " '#not_a_word#',\n",
       " '#not_a_word#',\n",
       " '#not_a_word#',\n",
       " '#not_a_word#',\n",
       " '#not_a_word#',\n",
       " '#not_a_word#',\n",
       " '#not_a_word#',\n",
       " '#not_a_word#',\n",
       " '#not_a_word#',\n",
       " '#not_a_word#',\n",
       " '#not_a_word#',\n",
       " '#not_a_word#',\n",
       " '#not_a_word#',\n",
       " '#not_a_word#',\n",
       " '#not_a_word#',\n",
       " '#not_a_word#',\n",
       " '#not_a_word#',\n",
       " '#not_a_word#',\n",
       " '#not_a_word#',\n",
       " '#not_a_word#',\n",
       " '#not_a_word#',\n",
       " '#not_a_word#',\n",
       " '#not_a_word#',\n",
       " '#not_a_word#',\n",
       " '#not_a_word#',\n",
       " '#not_a_word#',\n",
       " '#not_a_word#',\n",
       " '#not_a_word#',\n",
       " '#not_a_word#',\n",
       " '#not_a_word#',\n",
       " '#not_a_word#',\n",
       " '#not_a_word#',\n",
       " '#not_a_word#',\n",
       " '#not_a_word#',\n",
       " '#not_a_word#',\n",
       " '#not_a_word#',\n",
       " '#not_a_word#',\n",
       " '#not_a_word#',\n",
       " '#not_a_word#',\n",
       " '#not_a_word#',\n",
       " '#not_a_word#',\n",
       " '#not_a_word#',\n",
       " '#not_a_word#',\n",
       " '#not_a_word#',\n",
       " '#not_a_word#',\n",
       " '#not_a_word#',\n",
       " '#not_a_word#',\n",
       " '#not_a_word#',\n",
       " '#not_a_word#',\n",
       " '#not_a_word#',\n",
       " '#not_a_word#',\n",
       " '#not_a_word#',\n",
       " '#not_a_word#',\n",
       " '#not_a_word#',\n",
       " '#not_a_word#',\n",
       " '#not_a_word#',\n",
       " '#not_a_word#',\n",
       " '#not_a_word#',\n",
       " '#not_a_word#',\n",
       " '#not_a_word#',\n",
       " '#not_a_word#',\n",
       " '#not_a_word#',\n",
       " '#not_a_word#',\n",
       " '#not_a_word#',\n",
       " '#not_a_word#',\n",
       " '#not_a_word#',\n",
       " '#not_a_word#',\n",
       " '#not_a_word#',\n",
       " '#not_a_word#',\n",
       " '#not_a_word#',\n",
       " '#not_a_word#',\n",
       " '#not_a_word#']"
      ]
     },
     "execution_count": 45,
     "metadata": {},
     "output_type": "execute_result"
    }
   ],
   "source": [
    "[ind_to_word[ind] for ind in par.context]"
   ]
  },
  {
   "cell_type": "code",
   "execution_count": 46,
   "metadata": {},
   "outputs": [],
   "source": [
    "qa = par.qas[0]"
   ]
  },
  {
   "cell_type": "code",
   "execution_count": 47,
   "metadata": {},
   "outputs": [
    {
     "data": {
      "text/plain": [
       "(40,)"
      ]
     },
     "execution_count": 47,
     "metadata": {},
     "output_type": "execute_result"
    }
   ],
   "source": [
    "qa.question.shape"
   ]
  },
  {
   "cell_type": "code",
   "execution_count": 48,
   "metadata": {},
   "outputs": [
    {
     "data": {
      "text/plain": [
       "['#not_a_word#',\n",
       " '#not_a_word#',\n",
       " 'team',\n",
       " 'represented',\n",
       " 'the',\n",
       " '#not_a_word#',\n",
       " 'at',\n",
       " '#not_a_word#',\n",
       " '#not_a_word#',\n",
       " '50',\n",
       " '?',\n",
       " '#not_a_word#',\n",
       " '#not_a_word#',\n",
       " '#not_a_word#',\n",
       " '#not_a_word#',\n",
       " '#not_a_word#',\n",
       " '#not_a_word#',\n",
       " '#not_a_word#',\n",
       " '#not_a_word#',\n",
       " '#not_a_word#',\n",
       " '#not_a_word#',\n",
       " '#not_a_word#',\n",
       " '#not_a_word#',\n",
       " '#not_a_word#',\n",
       " '#not_a_word#',\n",
       " '#not_a_word#',\n",
       " '#not_a_word#',\n",
       " '#not_a_word#',\n",
       " '#not_a_word#',\n",
       " '#not_a_word#',\n",
       " '#not_a_word#',\n",
       " '#not_a_word#',\n",
       " '#not_a_word#',\n",
       " '#not_a_word#',\n",
       " '#not_a_word#',\n",
       " '#not_a_word#',\n",
       " '#not_a_word#',\n",
       " '#not_a_word#',\n",
       " '#not_a_word#',\n",
       " '#not_a_word#']"
      ]
     },
     "execution_count": 48,
     "metadata": {},
     "output_type": "execute_result"
    }
   ],
   "source": [
    "[ind_to_word[ind] for ind in qa.question]"
   ]
  },
  {
   "cell_type": "code",
   "execution_count": 49,
   "metadata": {},
   "outputs": [],
   "source": [
    "a = qa.answers[0]"
   ]
  },
  {
   "cell_type": "code",
   "execution_count": 50,
   "metadata": {},
   "outputs": [
    {
     "data": {
      "text/plain": [
       "['#not_a_word#',\n",
       " '#not_a_word#',\n",
       " '#not_a_word#',\n",
       " '#not_a_word#',\n",
       " '#not_a_word#',\n",
       " '#not_a_word#',\n",
       " '#not_a_word#',\n",
       " '#not_a_word#',\n",
       " '#not_a_word#',\n",
       " '#not_a_word#',\n",
       " '#not_a_word#',\n",
       " '#not_a_word#',\n",
       " '#not_a_word#',\n",
       " '#not_a_word#',\n",
       " '#not_a_word#',\n",
       " '#not_a_word#',\n",
       " '#not_a_word#',\n",
       " '#not_a_word#',\n",
       " '#not_a_word#',\n",
       " '#not_a_word#',\n",
       " '#not_a_word#',\n",
       " '#not_a_word#',\n",
       " '#not_a_word#',\n",
       " '#not_a_word#',\n",
       " '#not_a_word#',\n",
       " '#not_a_word#',\n",
       " '#not_a_word#',\n",
       " '#not_a_word#',\n",
       " '#not_a_word#',\n",
       " '#not_a_word#']"
      ]
     },
     "execution_count": 50,
     "metadata": {},
     "output_type": "execute_result"
    }
   ],
   "source": [
    "[ind_to_word[ind] for ind in a.text]"
   ]
  },
  {
   "cell_type": "code",
   "execution_count": 51,
   "metadata": {},
   "outputs": [
    {
     "data": {
      "text/plain": [
       "33"
      ]
     },
     "execution_count": 51,
     "metadata": {},
     "output_type": "execute_result"
    }
   ],
   "source": [
    "a.start_token"
   ]
  },
  {
   "cell_type": "code",
   "execution_count": 52,
   "metadata": {},
   "outputs": [
    {
     "data": {
      "text/plain": [
       "35"
      ]
     },
     "execution_count": 52,
     "metadata": {},
     "output_type": "execute_result"
    }
   ],
   "source": [
    "a.end_token"
   ]
  },
  {
   "cell_type": "code",
   "execution_count": 53,
   "metadata": {},
   "outputs": [
    {
     "data": {
      "text/plain": [
       "177"
      ]
     },
     "execution_count": 53,
     "metadata": {},
     "output_type": "execute_result"
    }
   ],
   "source": [
    "a.start_char"
   ]
  },
  {
   "cell_type": "code",
   "execution_count": null,
   "metadata": {},
   "outputs": [],
   "source": []
  },
  {
   "cell_type": "markdown",
   "metadata": {},
   "source": [
    "## Test processed SQuAD"
   ]
  },
  {
   "cell_type": "code",
   "execution_count": 3,
   "metadata": {},
   "outputs": [],
   "source": [
    "with open('SQuAD/meta.msgpack', 'rb') as f:\n",
    "    meta = msgpack.load(f, encoding='utf8')"
   ]
  },
  {
   "cell_type": "code",
   "execution_count": 4,
   "metadata": {},
   "outputs": [],
   "source": [
    "vocab = meta['vocab']"
   ]
  },
  {
   "cell_type": "code",
   "execution_count": 5,
   "metadata": {},
   "outputs": [
    {
     "data": {
      "text/plain": [
       "91187"
      ]
     },
     "execution_count": 5,
     "metadata": {},
     "output_type": "execute_result"
    }
   ],
   "source": [
    "len(vocab)"
   ]
  },
  {
   "cell_type": "code",
   "execution_count": 6,
   "metadata": {},
   "outputs": [
    {
     "name": "stdout",
     "output_type": "stream",
     "text": [
      "['NN', 'IN', 'NNP', 'DT', 'JJ', 'NNS', ',', '.', 'CC', 'VBD', 'RB', 'VBN', 'CD', 'VB', 'VBZ', 'VBG', 'PRP', 'VBP', 'TO', '-RRB-', 'HYPH', '-LRB-', 'PRP$', 'POS', 'WDT', \"''\", '``', 'MD', 'NNPS', ':', 'JJR', 'JJS', 'WRB', 'WP', 'RP', 'RBR', 'RBS', 'EX', '$', 'SYM', 'FW', 'NFP', 'AFX', 'PDT', 'WP$', 'UH', 'LS', 'SP', 'XX', 'ADD']\n"
     ]
    }
   ],
   "source": [
    "vocab_tag = meta['vocab_tag']\n",
    "print(vocab_tag)"
   ]
  },
  {
   "cell_type": "code",
   "execution_count": 7,
   "metadata": {},
   "outputs": [],
   "source": [
    "vocab_ent = meta['vocab_ent']"
   ]
  },
  {
   "cell_type": "code",
   "execution_count": 8,
   "metadata": {},
   "outputs": [
    {
     "data": {
      "text/plain": [
       "['',\n",
       " 'ORG',\n",
       " 'DATE',\n",
       " 'PERSON',\n",
       " 'GPE',\n",
       " 'CARDINAL',\n",
       " 'NORP',\n",
       " 'LOC',\n",
       " 'WORK_OF_ART',\n",
       " 'PERCENT',\n",
       " 'EVENT',\n",
       " 'ORDINAL',\n",
       " 'MONEY',\n",
       " 'FAC',\n",
       " 'QUANTITY',\n",
       " 'LAW',\n",
       " 'TIME',\n",
       " 'LANGUAGE',\n",
       " 'PRODUCT']"
      ]
     },
     "execution_count": 8,
     "metadata": {},
     "output_type": "execute_result"
    }
   ],
   "source": [
    "vocab_ent"
   ]
  },
  {
   "cell_type": "code",
   "execution_count": 9,
   "metadata": {},
   "outputs": [],
   "source": [
    "embedding = meta['embedding']"
   ]
  },
  {
   "cell_type": "code",
   "execution_count": 10,
   "metadata": {},
   "outputs": [
    {
     "data": {
      "text/plain": [
       "300"
      ]
     },
     "execution_count": 10,
     "metadata": {},
     "output_type": "execute_result"
    }
   ],
   "source": [
    "len(embedding[0])"
   ]
  },
  {
   "cell_type": "code",
   "execution_count": 12,
   "metadata": {},
   "outputs": [
    {
     "data": {
      "text/plain": [
       "['<PAD>',\n",
       " '<UNK>',\n",
       " '?',\n",
       " 'the',\n",
       " 'What',\n",
       " 'of',\n",
       " 'in',\n",
       " 'to',\n",
       " 'was',\n",
       " 'is',\n",
       " 'did',\n",
       " 'what',\n",
       " 'a',\n",
       " \"'s\",\n",
       " 'Who',\n",
       " 'How',\n",
       " 'for',\n",
       " 'and',\n",
       " ',',\n",
       " 'are',\n",
       " 'many',\n",
       " 'When',\n",
       " 'that',\n",
       " 'does',\n",
       " 'were',\n",
       " '-',\n",
       " 'on',\n",
       " 'In',\n",
       " 'with',\n",
       " 'Which']"
      ]
     },
     "execution_count": 12,
     "metadata": {},
     "output_type": "execute_result"
    }
   ],
   "source": [
    "vocab[:30]"
   ]
  },
  {
   "cell_type": "code",
   "execution_count": null,
   "metadata": {},
   "outputs": [],
   "source": []
  },
  {
   "cell_type": "code",
   "execution_count": 4,
   "metadata": {},
   "outputs": [],
   "source": [
    "with open('SQuAD1/data.msgpack', 'rb') as f:\n",
    "    data = msgpack.load(f, encoding='utf8')"
   ]
  },
  {
   "cell_type": "code",
   "execution_count": 5,
   "metadata": {},
   "outputs": [],
   "source": [
    "train = data['train']"
   ]
  },
  {
   "cell_type": "code",
   "execution_count": 32,
   "metadata": {},
   "outputs": [
    {
     "name": "stdout",
     "output_type": "stream",
     "text": [
      "id 5733be284776f41900661182\n"
     ]
    }
   ],
   "source": [
    "print('id', train[0][0])"
   ]
  },
  {
   "cell_type": "code",
   "execution_count": 34,
   "metadata": {},
   "outputs": [
    {
     "name": "stdout",
     "output_type": "stream",
     "text": [
      "context_id [56657, 18, 3, 137, 47, 12, 523, 991, 217, 77428, 3, 5543, 2424, 13, 1663, 10606, 9, 12, 6308, 4781, 5, 3, 3804, 711, 217, 36580, 6, 2094, 5, 3, 5543, 2424, 17, 6353, 50, 18, 9, 12, 753, 4781, 5, 2314, 28, 3053, 62876, 28, 3, 5798, 39, 78972, 15476, 8026, 66905, 39, 217, 22347, 7, 3, 5543, 2424, 9, 3, 4548, 5, 3, 10317, 4877, 217, 36580, 1573, 3, 10501, 9, 3, 22472, 18, 12, 12197, 122, 5, 5235, 17, 9189, 217, 2285, 9, 12, 12081, 5, 3, 71965, 45, 23146, 18, 197, 110, 3, 3804, 711, 44002, 1935, 7, 641, 48147, 48281, 6, 9045, 217, 216, 3, 140, 5, 3, 146, 2042, 916, 17, 6, 12, 1512, 393, 22, 2959, 244, 798, 6594, 17, 3, 4691, 12943, 828, 18, 9, 12, 2731, 18, 205, 2728, 4781, 5, 711, 217]\n"
     ]
    }
   ],
   "source": [
    "print('context_id', train[0][1])"
   ]
  },
  {
   "cell_type": "code",
   "execution_count": 35,
   "metadata": {},
   "outputs": [
    {
     "data": {
      "text/plain": [
       "['Architecturally',\n",
       " ',',\n",
       " 'the',\n",
       " 'school',\n",
       " 'has',\n",
       " 'a',\n",
       " 'Catholic',\n",
       " 'character',\n",
       " '.',\n",
       " 'Atop',\n",
       " 'the',\n",
       " 'Main',\n",
       " 'Building',\n",
       " \"'s\",\n",
       " 'gold',\n",
       " 'dome',\n",
       " 'is',\n",
       " 'a',\n",
       " 'golden',\n",
       " 'statue',\n",
       " 'of',\n",
       " 'the',\n",
       " 'Virgin',\n",
       " 'Mary',\n",
       " '.',\n",
       " 'Immediately',\n",
       " 'in',\n",
       " 'front',\n",
       " 'of',\n",
       " 'the',\n",
       " 'Main',\n",
       " 'Building',\n",
       " 'and',\n",
       " 'facing',\n",
       " 'it',\n",
       " ',',\n",
       " 'is',\n",
       " 'a',\n",
       " 'copper',\n",
       " 'statue',\n",
       " 'of',\n",
       " 'Christ',\n",
       " 'with',\n",
       " 'arms',\n",
       " 'upraised',\n",
       " 'with',\n",
       " 'the',\n",
       " 'legend',\n",
       " '\"',\n",
       " 'Venite',\n",
       " 'Ad',\n",
       " 'Me',\n",
       " 'Omnes',\n",
       " '\"',\n",
       " '.',\n",
       " 'Next',\n",
       " 'to',\n",
       " 'the',\n",
       " 'Main',\n",
       " 'Building',\n",
       " 'is',\n",
       " 'the',\n",
       " 'Basilica',\n",
       " 'of',\n",
       " 'the',\n",
       " 'Sacred',\n",
       " 'Heart',\n",
       " '.',\n",
       " 'Immediately',\n",
       " 'behind',\n",
       " 'the',\n",
       " 'basilica',\n",
       " 'is',\n",
       " 'the',\n",
       " 'Grotto',\n",
       " ',',\n",
       " 'a',\n",
       " 'Marian',\n",
       " 'place',\n",
       " 'of',\n",
       " 'prayer',\n",
       " 'and',\n",
       " 'reflection',\n",
       " '.',\n",
       " 'It',\n",
       " 'is',\n",
       " 'a',\n",
       " 'replica',\n",
       " 'of',\n",
       " 'the',\n",
       " 'grotto',\n",
       " 'at',\n",
       " 'Lourdes',\n",
       " ',',\n",
       " 'France',\n",
       " 'where',\n",
       " 'the',\n",
       " 'Virgin',\n",
       " 'Mary',\n",
       " 'reputedly',\n",
       " 'appeared',\n",
       " 'to',\n",
       " 'Saint',\n",
       " 'Bernadette',\n",
       " 'Soubirous',\n",
       " 'in',\n",
       " '1858',\n",
       " '.',\n",
       " 'At',\n",
       " 'the',\n",
       " 'end',\n",
       " 'of',\n",
       " 'the',\n",
       " 'main',\n",
       " 'drive',\n",
       " '(',\n",
       " 'and',\n",
       " 'in',\n",
       " 'a',\n",
       " 'direct',\n",
       " 'line',\n",
       " 'that',\n",
       " 'connects',\n",
       " 'through',\n",
       " '3',\n",
       " 'statues',\n",
       " 'and',\n",
       " 'the',\n",
       " 'Gold',\n",
       " 'Dome',\n",
       " ')',\n",
       " ',',\n",
       " 'is',\n",
       " 'a',\n",
       " 'simple',\n",
       " ',',\n",
       " 'modern',\n",
       " 'stone',\n",
       " 'statue',\n",
       " 'of',\n",
       " 'Mary',\n",
       " '.']"
      ]
     },
     "execution_count": 35,
     "metadata": {},
     "output_type": "execute_result"
    }
   ],
   "source": [
    "[vocab[id_] for id_ in train[0][1]]"
   ]
  },
  {
   "cell_type": "code",
   "execution_count": 36,
   "metadata": {},
   "outputs": [
    {
     "name": "stdout",
     "output_type": "stream",
     "text": [
      "context_features [[False, False, False, 0.007042253521126761], [False, False, False, 0.04225352112676056], [True, True, True, 0.1056338028169014], [False, False, False, 0.007042253521126761], [False, False, False, 0.007042253521126761], [False, False, False, 0.04929577464788732], [False, False, False, 0.007042253521126761], [False, False, False, 0.007042253521126761], [False, False, False, 0.04929577464788732], [False, False, False, 0.007042253521126761], [True, True, True, 0.1056338028169014], [False, False, False, 0.028169014084507043], [False, False, False, 0.02112676056338028], [False, False, False, 0.007042253521126761], [False, False, False, 0.014084507042253521], [False, False, False, 0.014084507042253521], [False, False, False, 0.04225352112676056], [False, False, False, 0.04929577464788732], [False, False, False, 0.007042253521126761], [False, False, False, 0.02112676056338028], [False, False, False, 0.056338028169014086], [True, True, True, 0.1056338028169014], [True, True, True, 0.014084507042253521], [True, True, True, 0.02112676056338028], [False, False, False, 0.04929577464788732], [False, False, False, 0.014084507042253521], [True, True, True, 0.02112676056338028], [False, False, False, 0.007042253521126761], [False, False, False, 0.056338028169014086], [True, True, True, 0.1056338028169014], [False, False, False, 0.028169014084507043], [False, False, False, 0.02112676056338028], [False, False, False, 0.028169014084507043], [False, False, False, 0.007042253521126761], [False, False, False, 0.014084507042253521], [False, False, False, 0.04225352112676056], [False, False, False, 0.04225352112676056], [False, False, False, 0.04929577464788732], [False, False, False, 0.007042253521126761], [False, False, False, 0.02112676056338028], [False, False, False, 0.056338028169014086], [False, False, False, 0.007042253521126761], [False, False, False, 0.014084507042253521], [False, False, False, 0.007042253521126761], [False, False, False, 0.007042253521126761], [False, False, False, 0.014084507042253521], [True, True, True, 0.1056338028169014], [False, False, False, 0.007042253521126761], [False, False, False, 0.014084507042253521], [False, False, False, 0.007042253521126761], [False, False, False, 0.007042253521126761], [False, False, False, 0.007042253521126761], [False, False, False, 0.007042253521126761], [False, False, False, 0.014084507042253521], [False, False, False, 0.04929577464788732], [False, False, False, 0.007042253521126761], [False, True, True, 0.014084507042253521], [True, True, True, 0.1056338028169014], [False, False, False, 0.028169014084507043], [False, False, False, 0.02112676056338028], [False, False, False, 0.04225352112676056], [True, True, True, 0.1056338028169014], [False, False, False, 0.014084507042253521], [False, False, False, 0.056338028169014086], [True, True, True, 0.1056338028169014], [False, False, False, 0.007042253521126761], [False, False, False, 0.007042253521126761], [False, False, False, 0.04929577464788732], [False, False, False, 0.014084507042253521], [False, False, False, 0.007042253521126761], [True, True, True, 0.1056338028169014], [False, False, False, 0.014084507042253521], [False, False, False, 0.04225352112676056], [True, True, True, 0.1056338028169014], [False, False, False, 0.014084507042253521], [False, False, False, 0.04225352112676056], [False, False, False, 0.04929577464788732], [False, False, False, 0.007042253521126761], [False, False, False, 0.007042253521126761], [False, False, False, 0.056338028169014086], [False, False, False, 0.007042253521126761], [False, False, False, 0.028169014084507043], [False, False, False, 0.007042253521126761], [False, False, False, 0.04929577464788732], [False, False, False, 0.014084507042253521], [False, False, False, 0.04225352112676056], [False, False, False, 0.04929577464788732], [False, False, False, 0.007042253521126761], [False, False, False, 0.056338028169014086], [True, True, True, 0.1056338028169014], [False, False, False, 0.014084507042253521], [False, False, False, 0.014084507042253521], [True, True, True, 0.007042253521126761], [False, False, False, 0.04225352112676056], [True, True, True, 0.007042253521126761], [False, False, False, 0.007042253521126761], [True, True, True, 0.1056338028169014], [True, True, True, 0.014084507042253521], [True, True, True, 0.02112676056338028], [False, False, False, 0.007042253521126761], [False, False, True, 0.007042253521126761], [False, True, True, 0.014084507042253521], [False, False, False, 0.007042253521126761], [False, False, False, 0.007042253521126761], [False, False, False, 0.007042253521126761], [True, True, True, 0.02112676056338028], [True, True, True, 0.007042253521126761], [False, False, False, 0.04929577464788732], [False, False, False, 0.014084507042253521], [True, True, True, 0.1056338028169014], [False, False, False, 0.007042253521126761], [False, False, False, 0.056338028169014086], [True, True, True, 0.1056338028169014], [False, False, False, 0.028169014084507043], [False, False, False, 0.007042253521126761], [False, False, False, 0.007042253521126761], [False, False, False, 0.028169014084507043], [True, True, True, 0.02112676056338028], [False, False, False, 0.04929577464788732], [False, False, False, 0.007042253521126761], [False, False, False, 0.007042253521126761], [False, False, False, 0.007042253521126761], [False, False, False, 0.007042253521126761], [False, False, False, 0.007042253521126761], [False, False, False, 0.007042253521126761], [False, False, False, 0.007042253521126761], [False, False, False, 0.028169014084507043], [True, True, True, 0.1056338028169014], [False, False, False, 0.014084507042253521], [False, False, False, 0.014084507042253521], [False, False, False, 0.007042253521126761], [False, False, False, 0.04225352112676056], [False, False, False, 0.04225352112676056], [False, False, False, 0.04929577464788732], [False, False, False, 0.007042253521126761], [False, False, False, 0.04225352112676056], [False, False, False, 0.007042253521126761], [False, False, False, 0.007042253521126761], [False, False, False, 0.02112676056338028], [False, False, False, 0.056338028169014086], [True, True, True, 0.02112676056338028], [False, False, False, 0.04929577464788732]]\n"
     ]
    }
   ],
   "source": [
    "print('context_features', train[0][2])"
   ]
  },
  {
   "cell_type": "code",
   "execution_count": 37,
   "metadata": {},
   "outputs": [
    {
     "name": "stdout",
     "output_type": "stream",
     "text": [
      "tag_id [10, 6, 3, 0, 14, 3, 4, 0, 7, 1, 3, 2, 2, 23, 0, 0, 14, 3, 4, 0, 1, 3, 2, 2, 7, 10, 1, 0, 1, 3, 2, 2, 8, 15, 16, 6, 14, 3, 0, 0, 1, 2, 1, 5, 4, 1, 3, 0, 26, 2, 2, 16, 2, 25, 7, 10, 1, 3, 2, 2, 14, 3, 2, 1, 3, 2, 2, 7, 10, 1, 3, 0, 14, 3, 2, 6, 3, 2, 0, 1, 0, 8, 0, 7, 16, 14, 3, 0, 1, 3, 0, 1, 2, 6, 2, 32, 3, 2, 2, 10, 9, 1, 2, 2, 2, 1, 12, 7, 1, 3, 0, 1, 3, 4, 0, 21, 8, 1, 3, 4, 0, 24, 14, 1, 12, 5, 8, 3, 2, 2, 19, 6, 14, 3, 4, 6, 4, 0, 0, 1, 2, 7]\n"
     ]
    }
   ],
   "source": [
    "print('tag_id', train[0][3])"
   ]
  },
  {
   "cell_type": "code",
   "execution_count": 53,
   "metadata": {},
   "outputs": [
    {
     "data": {
      "text/plain": [
       "50"
      ]
     },
     "execution_count": 53,
     "metadata": {},
     "output_type": "execute_result"
    }
   ],
   "source": [
    "len(vocab_tag)"
   ]
  },
  {
   "cell_type": "code",
   "execution_count": 51,
   "metadata": {},
   "outputs": [
    {
     "data": {
      "text/plain": [
       "['RB',\n",
       " ',',\n",
       " 'DT',\n",
       " 'NN',\n",
       " 'VBZ',\n",
       " 'DT',\n",
       " 'JJ',\n",
       " 'NN',\n",
       " '.',\n",
       " 'IN',\n",
       " 'DT',\n",
       " 'NNP',\n",
       " 'NNP',\n",
       " 'POS',\n",
       " 'NN',\n",
       " 'NN',\n",
       " 'VBZ',\n",
       " 'DT',\n",
       " 'JJ',\n",
       " 'NN',\n",
       " 'IN',\n",
       " 'DT',\n",
       " 'NNP',\n",
       " 'NNP',\n",
       " '.',\n",
       " 'RB',\n",
       " 'IN',\n",
       " 'NN',\n",
       " 'IN',\n",
       " 'DT',\n",
       " 'NNP',\n",
       " 'NNP',\n",
       " 'CC',\n",
       " 'VBG',\n",
       " 'PRP',\n",
       " ',',\n",
       " 'VBZ',\n",
       " 'DT',\n",
       " 'NN',\n",
       " 'NN',\n",
       " 'IN',\n",
       " 'NNP',\n",
       " 'IN',\n",
       " 'NNS',\n",
       " 'JJ',\n",
       " 'IN',\n",
       " 'DT',\n",
       " 'NN',\n",
       " '``',\n",
       " 'NNP',\n",
       " 'NNP',\n",
       " 'PRP',\n",
       " 'NNP',\n",
       " \"''\",\n",
       " '.',\n",
       " 'RB',\n",
       " 'IN',\n",
       " 'DT',\n",
       " 'NNP',\n",
       " 'NNP',\n",
       " 'VBZ',\n",
       " 'DT',\n",
       " 'NNP',\n",
       " 'IN',\n",
       " 'DT',\n",
       " 'NNP',\n",
       " 'NNP',\n",
       " '.',\n",
       " 'RB',\n",
       " 'IN',\n",
       " 'DT',\n",
       " 'NN',\n",
       " 'VBZ',\n",
       " 'DT',\n",
       " 'NNP',\n",
       " ',',\n",
       " 'DT',\n",
       " 'NNP',\n",
       " 'NN',\n",
       " 'IN',\n",
       " 'NN',\n",
       " 'CC',\n",
       " 'NN',\n",
       " '.',\n",
       " 'PRP',\n",
       " 'VBZ',\n",
       " 'DT',\n",
       " 'NN',\n",
       " 'IN',\n",
       " 'DT',\n",
       " 'NN',\n",
       " 'IN',\n",
       " 'NNP',\n",
       " ',',\n",
       " 'NNP',\n",
       " 'WRB',\n",
       " 'DT',\n",
       " 'NNP',\n",
       " 'NNP',\n",
       " 'RB',\n",
       " 'VBD',\n",
       " 'IN',\n",
       " 'NNP',\n",
       " 'NNP',\n",
       " 'NNP',\n",
       " 'IN',\n",
       " 'CD',\n",
       " '.',\n",
       " 'IN',\n",
       " 'DT',\n",
       " 'NN',\n",
       " 'IN',\n",
       " 'DT',\n",
       " 'JJ',\n",
       " 'NN',\n",
       " '-LRB-',\n",
       " 'CC',\n",
       " 'IN',\n",
       " 'DT',\n",
       " 'JJ',\n",
       " 'NN',\n",
       " 'WDT',\n",
       " 'VBZ',\n",
       " 'IN',\n",
       " 'CD',\n",
       " 'NNS',\n",
       " 'CC',\n",
       " 'DT',\n",
       " 'NNP',\n",
       " 'NNP',\n",
       " '-RRB-',\n",
       " ',',\n",
       " 'VBZ',\n",
       " 'DT',\n",
       " 'JJ',\n",
       " ',',\n",
       " 'JJ',\n",
       " 'NN',\n",
       " 'NN',\n",
       " 'IN',\n",
       " 'NNP',\n",
       " '.']"
      ]
     },
     "execution_count": 51,
     "metadata": {},
     "output_type": "execute_result"
    }
   ],
   "source": [
    "[vocab_tag[id_] for id_ in train[0][3]]"
   ]
  },
  {
   "cell_type": "code",
   "execution_count": 40,
   "metadata": {},
   "outputs": [
    {
     "name": "stdout",
     "output_type": "stream",
     "text": [
      "ent_id [0, 0, 0, 0, 0, 0, 6, 0, 0, 0, 13, 13, 13, 13, 0, 0, 0, 0, 0, 0, 0, 0, 0, 0, 0, 0, 0, 0, 0, 13, 13, 13, 0, 0, 0, 0, 0, 0, 0, 0, 0, 6, 0, 0, 0, 0, 0, 0, 0, 8, 8, 8, 8, 0, 0, 0, 0, 13, 13, 13, 0, 0, 3, 0, 1, 1, 1, 0, 0, 0, 0, 0, 0, 0, 4, 0, 0, 3, 0, 0, 0, 0, 0, 0, 0, 0, 0, 0, 0, 0, 0, 0, 4, 0, 4, 0, 0, 0, 3, 0, 0, 0, 3, 3, 3, 0, 2, 0, 0, 2, 2, 2, 2, 2, 2, 0, 0, 0, 0, 0, 0, 0, 0, 0, 5, 0, 0, 0, 0, 3, 0, 0, 0, 0, 0, 0, 0, 0, 0, 0, 3, 0]\n"
     ]
    }
   ],
   "source": [
    "print('ent_id', train[0][4])"
   ]
  },
  {
   "cell_type": "code",
   "execution_count": 54,
   "metadata": {},
   "outputs": [
    {
     "data": {
      "text/plain": [
       "19"
      ]
     },
     "execution_count": 54,
     "metadata": {},
     "output_type": "execute_result"
    }
   ],
   "source": [
    "len(vocab_ent)"
   ]
  },
  {
   "cell_type": "code",
   "execution_count": 52,
   "metadata": {},
   "outputs": [
    {
     "data": {
      "text/plain": [
       "['',\n",
       " '',\n",
       " '',\n",
       " '',\n",
       " '',\n",
       " '',\n",
       " 'NORP',\n",
       " '',\n",
       " '',\n",
       " '',\n",
       " 'FAC',\n",
       " 'FAC',\n",
       " 'FAC',\n",
       " 'FAC',\n",
       " '',\n",
       " '',\n",
       " '',\n",
       " '',\n",
       " '',\n",
       " '',\n",
       " '',\n",
       " '',\n",
       " '',\n",
       " '',\n",
       " '',\n",
       " '',\n",
       " '',\n",
       " '',\n",
       " '',\n",
       " 'FAC',\n",
       " 'FAC',\n",
       " 'FAC',\n",
       " '',\n",
       " '',\n",
       " '',\n",
       " '',\n",
       " '',\n",
       " '',\n",
       " '',\n",
       " '',\n",
       " '',\n",
       " 'NORP',\n",
       " '',\n",
       " '',\n",
       " '',\n",
       " '',\n",
       " '',\n",
       " '',\n",
       " '',\n",
       " 'WORK_OF_ART',\n",
       " 'WORK_OF_ART',\n",
       " 'WORK_OF_ART',\n",
       " 'WORK_OF_ART',\n",
       " '',\n",
       " '',\n",
       " '',\n",
       " '',\n",
       " 'FAC',\n",
       " 'FAC',\n",
       " 'FAC',\n",
       " '',\n",
       " '',\n",
       " 'PERSON',\n",
       " '',\n",
       " 'ORG',\n",
       " 'ORG',\n",
       " 'ORG',\n",
       " '',\n",
       " '',\n",
       " '',\n",
       " '',\n",
       " '',\n",
       " '',\n",
       " '',\n",
       " 'GPE',\n",
       " '',\n",
       " '',\n",
       " 'PERSON',\n",
       " '',\n",
       " '',\n",
       " '',\n",
       " '',\n",
       " '',\n",
       " '',\n",
       " '',\n",
       " '',\n",
       " '',\n",
       " '',\n",
       " '',\n",
       " '',\n",
       " '',\n",
       " '',\n",
       " 'GPE',\n",
       " '',\n",
       " 'GPE',\n",
       " '',\n",
       " '',\n",
       " '',\n",
       " 'PERSON',\n",
       " '',\n",
       " '',\n",
       " '',\n",
       " 'PERSON',\n",
       " 'PERSON',\n",
       " 'PERSON',\n",
       " '',\n",
       " 'DATE',\n",
       " '',\n",
       " '',\n",
       " 'DATE',\n",
       " 'DATE',\n",
       " 'DATE',\n",
       " 'DATE',\n",
       " 'DATE',\n",
       " 'DATE',\n",
       " '',\n",
       " '',\n",
       " '',\n",
       " '',\n",
       " '',\n",
       " '',\n",
       " '',\n",
       " '',\n",
       " '',\n",
       " 'CARDINAL',\n",
       " '',\n",
       " '',\n",
       " '',\n",
       " '',\n",
       " 'PERSON',\n",
       " '',\n",
       " '',\n",
       " '',\n",
       " '',\n",
       " '',\n",
       " '',\n",
       " '',\n",
       " '',\n",
       " '',\n",
       " '',\n",
       " 'PERSON',\n",
       " '']"
      ]
     },
     "execution_count": 52,
     "metadata": {},
     "output_type": "execute_result"
    }
   ],
   "source": [
    "[vocab_ent[id_] for id_ in train[0][4]]"
   ]
  },
  {
   "cell_type": "code",
   "execution_count": 43,
   "metadata": {},
   "outputs": [
    {
     "name": "stdout",
     "output_type": "stream",
     "text": [
      "question_id [224, 215, 10, 3, 3804, 711, 5858, 627, 6, 9045, 6, 23146, 197, 2]\n"
     ]
    }
   ],
   "source": [
    "print('question_id', train[0][5])"
   ]
  },
  {
   "cell_type": "code",
   "execution_count": 55,
   "metadata": {},
   "outputs": [
    {
     "data": {
      "text/plain": [
       "['To',\n",
       " 'whom',\n",
       " 'did',\n",
       " 'the',\n",
       " 'Virgin',\n",
       " 'Mary',\n",
       " 'allegedly',\n",
       " 'appear',\n",
       " 'in',\n",
       " '1858',\n",
       " 'in',\n",
       " 'Lourdes',\n",
       " 'France',\n",
       " '?']"
      ]
     },
     "execution_count": 55,
     "metadata": {},
     "output_type": "execute_result"
    }
   ],
   "source": [
    "[vocab[id_] for id_ in train[0][5]]"
   ]
  },
  {
   "cell_type": "code",
   "execution_count": 46,
   "metadata": {},
   "outputs": [
    {
     "name": "stdout",
     "output_type": "stream",
     "text": [
      "context Architecturally, the school has a Catholic character. Atop the Main Building's gold dome is a golden statue of the Virgin Mary. Immediately in front of the Main Building and facing it, is a copper statue of Christ with arms upraised with the legend \"Venite Ad Me Omnes\". Next to the Main Building is the Basilica of the Sacred Heart. Immediately behind the basilica is the Grotto, a Marian place of prayer and reflection. It is a replica of the grotto at Lourdes, France where the Virgin Mary reputedly appeared to Saint Bernadette Soubirous in 1858. At the end of the main drive (and in a direct line that connects through 3 statues and the Gold Dome), is a simple, modern stone statue of Mary.\n"
     ]
    }
   ],
   "source": [
    "print('context', train[0][6])"
   ]
  },
  {
   "cell_type": "code",
   "execution_count": 47,
   "metadata": {},
   "outputs": [
    {
     "name": "stdout",
     "output_type": "stream",
     "text": [
      "context_token_span [[0, 15], [15, 16], [17, 20], [21, 27], [28, 31], [32, 33], [34, 42], [43, 52], [52, 53], [54, 58], [59, 62], [63, 67], [68, 76], [76, 78], [79, 83], [84, 88], [89, 91], [92, 93], [94, 100], [101, 107], [108, 110], [111, 114], [115, 121], [122, 126], [126, 127], [128, 139], [140, 142], [143, 148], [149, 151], [152, 155], [156, 160], [161, 169], [170, 173], [174, 180], [181, 183], [183, 184], [185, 187], [188, 189], [190, 196], [197, 203], [204, 206], [207, 213], [214, 218], [219, 223], [224, 232], [233, 237], [238, 241], [242, 248], [249, 250], [250, 256], [257, 259], [260, 262], [263, 268], [268, 269], [269, 270], [271, 275], [276, 278], [279, 282], [283, 287], [288, 296], [297, 299], [300, 303], [304, 312], [313, 315], [316, 319], [320, 326], [327, 332], [332, 333], [334, 345], [346, 352], [353, 356], [357, 365], [366, 368], [369, 372], [373, 379], [379, 380], [381, 382], [383, 389], [390, 395], [396, 398], [399, 405], [406, 409], [410, 420], [420, 421], [422, 424], [425, 427], [428, 429], [430, 437], [438, 440], [441, 444], [445, 451], [452, 454], [455, 462], [462, 463], [464, 470], [471, 476], [477, 480], [481, 487], [488, 492], [493, 502], [503, 511], [512, 514], [515, 520], [521, 531], [532, 541], [542, 544], [545, 549], [549, 550], [551, 553], [554, 557], [558, 561], [562, 564], [565, 568], [569, 573], [574, 579], [580, 581], [581, 584], [585, 587], [588, 589], [590, 596], [597, 601], [602, 606], [607, 615], [616, 623], [624, 625], [626, 633], [634, 637], [638, 641], [642, 646], [647, 651], [651, 652], [652, 653], [654, 656], [657, 658], [659, 665], [665, 666], [667, 673], [674, 679], [680, 686], [687, 689], [690, 694], [694, 695]]\n"
     ]
    }
   ],
   "source": [
    "print('context_token_span', train[0][7])"
   ]
  },
  {
   "cell_type": "code",
   "execution_count": 49,
   "metadata": {},
   "outputs": [
    {
     "name": "stdout",
     "output_type": "stream",
     "text": [
      "answer_start 102\n"
     ]
    }
   ],
   "source": [
    "print('answer_start', train[0][8])"
   ]
  },
  {
   "cell_type": "code",
   "execution_count": 50,
   "metadata": {},
   "outputs": [
    {
     "name": "stdout",
     "output_type": "stream",
     "text": [
      "answer_end 104\n"
     ]
    }
   ],
   "source": [
    "print('answer_end', train[0][9])"
   ]
  },
  {
   "cell_type": "code",
   "execution_count": null,
   "metadata": {},
   "outputs": [],
   "source": []
  },
  {
   "cell_type": "code",
   "execution_count": null,
   "metadata": {},
   "outputs": [],
   "source": []
  },
  {
   "cell_type": "code",
   "execution_count": null,
   "metadata": {},
   "outputs": [],
   "source": []
  },
  {
   "cell_type": "code",
   "execution_count": null,
   "metadata": {},
   "outputs": [],
   "source": []
  },
  {
   "cell_type": "code",
   "execution_count": 6,
   "metadata": {},
   "outputs": [],
   "source": [
    "b = tools.reader(train[0])"
   ]
  },
  {
   "cell_type": "code",
   "execution_count": 8,
   "metadata": {},
   "outputs": [
    {
     "name": "stdout",
     "output_type": "stream",
     "text": [
      "(40,)\n",
      "(400,)\n",
      "(400,)\n",
      "(400,)\n",
      "(400, 262)\n",
      "()\n",
      "()\n"
     ]
    },
    {
     "data": {
      "text/plain": [
       "[None, None, None, None, None, None, None]"
      ]
     },
     "execution_count": 8,
     "metadata": {},
     "output_type": "execute_result"
    }
   ],
   "source": [
    "[print(i.shape) for i in b[0]]"
   ]
  },
  {
   "cell_type": "code",
   "execution_count": 17,
   "metadata": {},
   "outputs": [],
   "source": [
    "x = np.array(train[0][2])"
   ]
  },
  {
   "cell_type": "code",
   "execution_count": 18,
   "metadata": {},
   "outputs": [
    {
     "data": {
      "text/plain": [
       "(142, 4)"
      ]
     },
     "execution_count": 18,
     "metadata": {},
     "output_type": "execute_result"
    }
   ],
   "source": [
    "x.shape"
   ]
  },
  {
   "cell_type": "code",
   "execution_count": 20,
   "metadata": {},
   "outputs": [],
   "source": [
    "import numpy as np"
   ]
  },
  {
   "cell_type": "code",
   "execution_count": 22,
   "metadata": {},
   "outputs": [],
   "source": [
    "padded = np.pad(x, [(0, 400-142),(0,0)],  'constant', constant_values = -1)"
   ]
  },
  {
   "cell_type": "code",
   "execution_count": 23,
   "metadata": {},
   "outputs": [
    {
     "data": {
      "text/plain": [
       "(400, 4)"
      ]
     },
     "execution_count": 23,
     "metadata": {},
     "output_type": "execute_result"
    }
   ],
   "source": [
    "padded.shape"
   ]
  },
  {
   "cell_type": "code",
   "execution_count": 25,
   "metadata": {},
   "outputs": [
    {
     "data": {
      "text/plain": [
       "array([[ 0.        ,  0.        ,  0.        ,  0.00704225],\n",
       "       [ 0.        ,  0.        ,  0.        ,  0.04225352],\n",
       "       [ 1.        ,  1.        ,  1.        ,  0.1056338 ],\n",
       "       [ 0.        ,  0.        ,  0.        ,  0.00704225],\n",
       "       [ 0.        ,  0.        ,  0.        ,  0.00704225],\n",
       "       [ 0.        ,  0.        ,  0.        ,  0.04929577],\n",
       "       [ 0.        ,  0.        ,  0.        ,  0.00704225],\n",
       "       [ 0.        ,  0.        ,  0.        ,  0.00704225],\n",
       "       [ 0.        ,  0.        ,  0.        ,  0.04929577],\n",
       "       [ 0.        ,  0.        ,  0.        ,  0.00704225],\n",
       "       [ 1.        ,  1.        ,  1.        ,  0.1056338 ],\n",
       "       [ 0.        ,  0.        ,  0.        ,  0.02816901],\n",
       "       [ 0.        ,  0.        ,  0.        ,  0.02112676],\n",
       "       [ 0.        ,  0.        ,  0.        ,  0.00704225],\n",
       "       [ 0.        ,  0.        ,  0.        ,  0.01408451],\n",
       "       [ 0.        ,  0.        ,  0.        ,  0.01408451],\n",
       "       [ 0.        ,  0.        ,  0.        ,  0.04225352],\n",
       "       [ 0.        ,  0.        ,  0.        ,  0.04929577],\n",
       "       [ 0.        ,  0.        ,  0.        ,  0.00704225],\n",
       "       [ 0.        ,  0.        ,  0.        ,  0.02112676],\n",
       "       [ 0.        ,  0.        ,  0.        ,  0.05633803],\n",
       "       [ 1.        ,  1.        ,  1.        ,  0.1056338 ],\n",
       "       [ 1.        ,  1.        ,  1.        ,  0.01408451],\n",
       "       [ 1.        ,  1.        ,  1.        ,  0.02112676],\n",
       "       [ 0.        ,  0.        ,  0.        ,  0.04929577],\n",
       "       [ 0.        ,  0.        ,  0.        ,  0.01408451],\n",
       "       [ 1.        ,  1.        ,  1.        ,  0.02112676],\n",
       "       [ 0.        ,  0.        ,  0.        ,  0.00704225],\n",
       "       [ 0.        ,  0.        ,  0.        ,  0.05633803],\n",
       "       [ 1.        ,  1.        ,  1.        ,  0.1056338 ],\n",
       "       [ 0.        ,  0.        ,  0.        ,  0.02816901],\n",
       "       [ 0.        ,  0.        ,  0.        ,  0.02112676],\n",
       "       [ 0.        ,  0.        ,  0.        ,  0.02816901],\n",
       "       [ 0.        ,  0.        ,  0.        ,  0.00704225],\n",
       "       [ 0.        ,  0.        ,  0.        ,  0.01408451],\n",
       "       [ 0.        ,  0.        ,  0.        ,  0.04225352],\n",
       "       [ 0.        ,  0.        ,  0.        ,  0.04225352],\n",
       "       [ 0.        ,  0.        ,  0.        ,  0.04929577],\n",
       "       [ 0.        ,  0.        ,  0.        ,  0.00704225],\n",
       "       [ 0.        ,  0.        ,  0.        ,  0.02112676],\n",
       "       [ 0.        ,  0.        ,  0.        ,  0.05633803],\n",
       "       [ 0.        ,  0.        ,  0.        ,  0.00704225],\n",
       "       [ 0.        ,  0.        ,  0.        ,  0.01408451],\n",
       "       [ 0.        ,  0.        ,  0.        ,  0.00704225],\n",
       "       [ 0.        ,  0.        ,  0.        ,  0.00704225],\n",
       "       [ 0.        ,  0.        ,  0.        ,  0.01408451],\n",
       "       [ 1.        ,  1.        ,  1.        ,  0.1056338 ],\n",
       "       [ 0.        ,  0.        ,  0.        ,  0.00704225],\n",
       "       [ 0.        ,  0.        ,  0.        ,  0.01408451],\n",
       "       [ 0.        ,  0.        ,  0.        ,  0.00704225],\n",
       "       [ 0.        ,  0.        ,  0.        ,  0.00704225],\n",
       "       [ 0.        ,  0.        ,  0.        ,  0.00704225],\n",
       "       [ 0.        ,  0.        ,  0.        ,  0.00704225],\n",
       "       [ 0.        ,  0.        ,  0.        ,  0.01408451],\n",
       "       [ 0.        ,  0.        ,  0.        ,  0.04929577],\n",
       "       [ 0.        ,  0.        ,  0.        ,  0.00704225],\n",
       "       [ 0.        ,  1.        ,  1.        ,  0.01408451],\n",
       "       [ 1.        ,  1.        ,  1.        ,  0.1056338 ],\n",
       "       [ 0.        ,  0.        ,  0.        ,  0.02816901],\n",
       "       [ 0.        ,  0.        ,  0.        ,  0.02112676],\n",
       "       [ 0.        ,  0.        ,  0.        ,  0.04225352],\n",
       "       [ 1.        ,  1.        ,  1.        ,  0.1056338 ],\n",
       "       [ 0.        ,  0.        ,  0.        ,  0.01408451],\n",
       "       [ 0.        ,  0.        ,  0.        ,  0.05633803],\n",
       "       [ 1.        ,  1.        ,  1.        ,  0.1056338 ],\n",
       "       [ 0.        ,  0.        ,  0.        ,  0.00704225],\n",
       "       [ 0.        ,  0.        ,  0.        ,  0.00704225],\n",
       "       [ 0.        ,  0.        ,  0.        ,  0.04929577],\n",
       "       [ 0.        ,  0.        ,  0.        ,  0.01408451],\n",
       "       [ 0.        ,  0.        ,  0.        ,  0.00704225],\n",
       "       [ 1.        ,  1.        ,  1.        ,  0.1056338 ],\n",
       "       [ 0.        ,  0.        ,  0.        ,  0.01408451],\n",
       "       [ 0.        ,  0.        ,  0.        ,  0.04225352],\n",
       "       [ 1.        ,  1.        ,  1.        ,  0.1056338 ],\n",
       "       [ 0.        ,  0.        ,  0.        ,  0.01408451],\n",
       "       [ 0.        ,  0.        ,  0.        ,  0.04225352],\n",
       "       [ 0.        ,  0.        ,  0.        ,  0.04929577],\n",
       "       [ 0.        ,  0.        ,  0.        ,  0.00704225],\n",
       "       [ 0.        ,  0.        ,  0.        ,  0.00704225],\n",
       "       [ 0.        ,  0.        ,  0.        ,  0.05633803],\n",
       "       [ 0.        ,  0.        ,  0.        ,  0.00704225],\n",
       "       [ 0.        ,  0.        ,  0.        ,  0.02816901],\n",
       "       [ 0.        ,  0.        ,  0.        ,  0.00704225],\n",
       "       [ 0.        ,  0.        ,  0.        ,  0.04929577],\n",
       "       [ 0.        ,  0.        ,  0.        ,  0.01408451],\n",
       "       [ 0.        ,  0.        ,  0.        ,  0.04225352],\n",
       "       [ 0.        ,  0.        ,  0.        ,  0.04929577],\n",
       "       [ 0.        ,  0.        ,  0.        ,  0.00704225],\n",
       "       [ 0.        ,  0.        ,  0.        ,  0.05633803],\n",
       "       [ 1.        ,  1.        ,  1.        ,  0.1056338 ],\n",
       "       [ 0.        ,  0.        ,  0.        ,  0.01408451],\n",
       "       [ 0.        ,  0.        ,  0.        ,  0.01408451],\n",
       "       [ 1.        ,  1.        ,  1.        ,  0.00704225],\n",
       "       [ 0.        ,  0.        ,  0.        ,  0.04225352],\n",
       "       [ 1.        ,  1.        ,  1.        ,  0.00704225],\n",
       "       [ 0.        ,  0.        ,  0.        ,  0.00704225],\n",
       "       [ 1.        ,  1.        ,  1.        ,  0.1056338 ],\n",
       "       [ 1.        ,  1.        ,  1.        ,  0.01408451],\n",
       "       [ 1.        ,  1.        ,  1.        ,  0.02112676],\n",
       "       [ 0.        ,  0.        ,  0.        ,  0.00704225],\n",
       "       [ 0.        ,  0.        ,  1.        ,  0.00704225],\n",
       "       [ 0.        ,  1.        ,  1.        ,  0.01408451],\n",
       "       [ 0.        ,  0.        ,  0.        ,  0.00704225],\n",
       "       [ 0.        ,  0.        ,  0.        ,  0.00704225],\n",
       "       [ 0.        ,  0.        ,  0.        ,  0.00704225],\n",
       "       [ 1.        ,  1.        ,  1.        ,  0.02112676],\n",
       "       [ 1.        ,  1.        ,  1.        ,  0.00704225],\n",
       "       [ 0.        ,  0.        ,  0.        ,  0.04929577],\n",
       "       [ 0.        ,  0.        ,  0.        ,  0.01408451],\n",
       "       [ 1.        ,  1.        ,  1.        ,  0.1056338 ],\n",
       "       [ 0.        ,  0.        ,  0.        ,  0.00704225],\n",
       "       [ 0.        ,  0.        ,  0.        ,  0.05633803],\n",
       "       [ 1.        ,  1.        ,  1.        ,  0.1056338 ],\n",
       "       [ 0.        ,  0.        ,  0.        ,  0.02816901],\n",
       "       [ 0.        ,  0.        ,  0.        ,  0.00704225],\n",
       "       [ 0.        ,  0.        ,  0.        ,  0.00704225],\n",
       "       [ 0.        ,  0.        ,  0.        ,  0.02816901],\n",
       "       [ 1.        ,  1.        ,  1.        ,  0.02112676],\n",
       "       [ 0.        ,  0.        ,  0.        ,  0.04929577],\n",
       "       [ 0.        ,  0.        ,  0.        ,  0.00704225],\n",
       "       [ 0.        ,  0.        ,  0.        ,  0.00704225],\n",
       "       [ 0.        ,  0.        ,  0.        ,  0.00704225],\n",
       "       [ 0.        ,  0.        ,  0.        ,  0.00704225],\n",
       "       [ 0.        ,  0.        ,  0.        ,  0.00704225],\n",
       "       [ 0.        ,  0.        ,  0.        ,  0.00704225],\n",
       "       [ 0.        ,  0.        ,  0.        ,  0.00704225],\n",
       "       [ 0.        ,  0.        ,  0.        ,  0.02816901],\n",
       "       [ 1.        ,  1.        ,  1.        ,  0.1056338 ],\n",
       "       [ 0.        ,  0.        ,  0.        ,  0.01408451],\n",
       "       [ 0.        ,  0.        ,  0.        ,  0.01408451],\n",
       "       [ 0.        ,  0.        ,  0.        ,  0.00704225],\n",
       "       [ 0.        ,  0.        ,  0.        ,  0.04225352],\n",
       "       [ 0.        ,  0.        ,  0.        ,  0.04225352],\n",
       "       [ 0.        ,  0.        ,  0.        ,  0.04929577],\n",
       "       [ 0.        ,  0.        ,  0.        ,  0.00704225],\n",
       "       [ 0.        ,  0.        ,  0.        ,  0.04225352],\n",
       "       [ 0.        ,  0.        ,  0.        ,  0.00704225],\n",
       "       [ 0.        ,  0.        ,  0.        ,  0.00704225],\n",
       "       [ 0.        ,  0.        ,  0.        ,  0.02112676],\n",
       "       [ 0.        ,  0.        ,  0.        ,  0.05633803],\n",
       "       [ 1.        ,  1.        ,  1.        ,  0.02112676],\n",
       "       [ 0.        ,  0.        ,  0.        ,  0.04929577]])"
      ]
     },
     "execution_count": 25,
     "metadata": {},
     "output_type": "execute_result"
    }
   ],
   "source": [
    "x"
   ]
  },
  {
   "cell_type": "code",
   "execution_count": null,
   "metadata": {},
   "outputs": [],
   "source": []
  }
 ],
 "metadata": {
  "kernelspec": {
   "display_name": "Python 3",
   "language": "python",
   "name": "python3"
  },
  "language_info": {
   "codemirror_mode": {
    "name": "ipython",
    "version": 3
   },
   "file_extension": ".py",
   "mimetype": "text/x-python",
   "name": "python",
   "nbconvert_exporter": "python",
   "pygments_lexer": "ipython3",
   "version": "3.5.2"
  }
 },
 "nbformat": 4,
 "nbformat_minor": 2
}
